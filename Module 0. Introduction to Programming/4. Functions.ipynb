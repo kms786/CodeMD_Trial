{
 "cells": [
  {
   "cell_type": "markdown",
   "metadata": {},
   "source": [
    "# Python Prelude 5: Functions"
   ]
  },
  {
   "cell_type": "markdown",
   "metadata": {},
   "source": [
    "## Learning objectives\n",
    "- Understand the nature and usage of functions.\n",
    "- Know the syntax of defining a function.\n",
    "- Understand the basic difference between functions and methods.\n",
    "- Understand arguments and outputs.\n",
    "- Know how to use the help() function.\n",
    "- Understand the idea of scope.\n",
    "- Understand the idea of recursion."
   ]
  },
  {
   "cell_type": "markdown",
   "metadata": {},
   "source": [
    "# Functions"
   ]
  },
  {
   "cell_type": "markdown",
   "metadata": {},
   "source": [
    "## Defining Functions"
   ]
  },
  {
   "cell_type": "markdown",
   "metadata": {},
   "source": [
    "- We have already seen for loops as a way of obeying the DRY (Don't Repeat Yourself) principle.\n",
    "- The next major step is functions.\n",
    "- Functions provide a way to program a block of code that only runs when called.\n",
    "- This means that we can avoid having to redefine the same operations when doing them repeatedly..\n",
    "<br><br>\n",
    "- A function takes in parameters, and returns an output.\n",
    "- The value passed in as a parameter is called an argument.\n",
    "- A function associated with an object is called a method.\n",
    "- An instance of a function is called a function call.\n",
    "- The basic syntax for a function is as follows:"
   ]
  },
  {
   "cell_type": "code",
   "execution_count": 1,
   "metadata": {},
   "outputs": [],
   "source": [
    "# function definition\n",
    "def function_name (param1, param2 = 1):\n",
    "    '''\n",
    "    DOCSTRING: explains function\n",
    "    INPUT: Name (str)\n",
    "    OUTPUT: Hello Name (str)\n",
    "    '''\n",
    "    # add code to run\n",
    "    return(\"Hello \" + param1)"
   ]
  },
  {
   "cell_type": "code",
   "execution_count": 2,
   "metadata": {},
   "outputs": [
    {
     "data": {
      "text/plain": [
       "'Hello Zain'"
      ]
     },
     "execution_count": 2,
     "metadata": {},
     "output_type": "execute_result"
    }
   ],
   "source": [
    "# function call\n",
    "function_name(\"Zain\")"
   ]
  },
  {
   "cell_type": "code",
   "execution_count": 3,
   "metadata": {},
   "outputs": [
    {
     "data": {
      "text/plain": [
       "<function __main__.function_name(param1, param2=1)>"
      ]
     },
     "execution_count": 3,
     "metadata": {},
     "output_type": "execute_result"
    }
   ],
   "source": [
    "function_name"
   ]
  },
  {
   "cell_type": "markdown",
   "metadata": {},
   "source": [
    "- __def__ keyword shows python you're about to define a function.\n",
    "- __Function name__ comes next, name all lower case, separated by underscores, do not use builtin keywords: see PEP8 for detail.\n",
    "- __Parameters__ defined in brackets.\n",
    "- __Default arguments__ are arguments that have a default value to revert to if no other value is specified. Here, param2 = 1 means that param2 will be 1 unless it is specified to be something else in the function call.\n",
    "- __Colon__ indicates end of definition line, next line will indent.\n",
    "- __Docstrings__ explain what the function is doing: read PEP257 or google __*'python docstrings'*__ for guidelines.\n",
    "- https://www.python.org/dev/peps/pep-0257/\n",
    "- __return__ keyword indicates output of function.\n",
    "<br><br>\n",
    "- When performing a function call, we write the name of the function followed by parentheses containing the arguments to pass in.\n",
    "- __COMMON ERROR: if you call a function without parentheses it will not run!!!__\n",
    "- It will simply show information on the function including the module it belongs to, its name, and the parameters it takes."
   ]
  },
  {
   "cell_type": "markdown",
   "metadata": {},
   "source": [
    "## Using help()"
   ]
  },
  {
   "cell_type": "markdown",
   "metadata": {},
   "source": [
    "- We can use the help() function to find documentation if we don't know what a function does.\n",
    "- Or press Shift + Tab.\n",
    "- For more detailed documentation, it is better to find and use the full documentation on the function (google it!)."
   ]
  },
  {
   "cell_type": "code",
   "execution_count": 35,
   "metadata": {},
   "outputs": [
    {
     "name": "stdout",
     "output_type": "stream",
     "text": [
      "Help on function function_name in module __main__:\n",
      "\n",
      "function_name(param1)\n",
      "    DOCSTRING: explains function\n",
      "    INPUT: Name (str)\n",
      "    OUTPUT: Hello Name (str)\n",
      "\n"
     ]
    }
   ],
   "source": [
    "help(function_name)"
   ]
  },
  {
   "cell_type": "code",
   "execution_count": 2,
   "metadata": {},
   "outputs": [
    {
     "name": "stdout",
     "output_type": "stream",
     "text": [
      "Help on built-in function print in module builtins:\n",
      "\n",
      "print(...)\n",
      "    print(value, ..., sep=' ', end='\\n', file=sys.stdout, flush=False)\n",
      "    \n",
      "    Prints the values to a stream, or to sys.stdout by default.\n",
      "    Optional keyword arguments:\n",
      "    file:  a file-like object (stream); defaults to the current sys.stdout.\n",
      "    sep:   string inserted between values, default a space.\n",
      "    end:   string appended after the last value, default a newline.\n",
      "    flush: whether to forcibly flush the stream.\n",
      "\n"
     ]
    }
   ],
   "source": [
    "help(print)"
   ]
  },
  {
   "cell_type": "markdown",
   "metadata": {},
   "source": [
    "## Variable Scope"
   ]
  },
  {
   "cell_type": "markdown",
   "metadata": {},
   "source": [
    "- Variable scope refers to which parts of a program can reference a variable.\n",
    "- There are 2 kinds of scope: local and global.\n",
    "- A variable defined inside a function can only be referenced inside that function: local scope.\n",
    "- A variable defined outside a function (in the general script) can be referenced inside the function, but cannot be modified from inside the function (UnboundLocalError).\n",
    "- To change it inside the function, it must be redefined inside the function."
   ]
  },
  {
   "cell_type": "code",
   "execution_count": 2,
   "metadata": {},
   "outputs": [
    {
     "ename": "UnboundLocalError",
     "evalue": "local variable 'counter' referenced before assignment",
     "output_type": "error",
     "traceback": [
      "\u001b[0;31m---------------------------------------------------------------------------\u001b[0m",
      "\u001b[0;31mUnboundLocalError\u001b[0m                         Traceback (most recent call last)",
      "\u001b[0;32m<ipython-input-2-0e5bbf753a73>\u001b[0m in \u001b[0;36m<module>\u001b[0;34m\u001b[0m\n\u001b[1;32m      4\u001b[0m     \u001b[0mcounter\u001b[0m \u001b[0;34m+=\u001b[0m \u001b[0;36m12\u001b[0m \u001b[0;31m# purchase a dozen eggs\u001b[0m\u001b[0;34m\u001b[0m\u001b[0;34m\u001b[0m\u001b[0m\n\u001b[1;32m      5\u001b[0m \u001b[0;34m\u001b[0m\u001b[0m\n\u001b[0;32m----> 6\u001b[0;31m \u001b[0madd_to_counter\u001b[0m\u001b[0;34m(\u001b[0m\u001b[0;34m)\u001b[0m\u001b[0;34m\u001b[0m\u001b[0;34m\u001b[0m\u001b[0m\n\u001b[0m",
      "\u001b[0;32m<ipython-input-2-0e5bbf753a73>\u001b[0m in \u001b[0;36madd_to_counter\u001b[0;34m()\u001b[0m\n\u001b[1;32m      2\u001b[0m \u001b[0;34m\u001b[0m\u001b[0m\n\u001b[1;32m      3\u001b[0m \u001b[0;32mdef\u001b[0m \u001b[0madd_to_counter\u001b[0m\u001b[0;34m(\u001b[0m\u001b[0;34m)\u001b[0m\u001b[0;34m:\u001b[0m\u001b[0;34m\u001b[0m\u001b[0;34m\u001b[0m\u001b[0m\n\u001b[0;32m----> 4\u001b[0;31m     \u001b[0mcounter\u001b[0m \u001b[0;34m+=\u001b[0m \u001b[0;36m12\u001b[0m \u001b[0;31m# purchase a dozen eggs\u001b[0m\u001b[0;34m\u001b[0m\u001b[0;34m\u001b[0m\u001b[0m\n\u001b[0m\u001b[1;32m      5\u001b[0m \u001b[0;34m\u001b[0m\u001b[0m\n\u001b[1;32m      6\u001b[0m \u001b[0madd_to_counter\u001b[0m\u001b[0;34m(\u001b[0m\u001b[0;34m)\u001b[0m\u001b[0;34m\u001b[0m\u001b[0;34m\u001b[0m\u001b[0m\n",
      "\u001b[0;31mUnboundLocalError\u001b[0m: local variable 'counter' referenced before assignment"
     ]
    }
   ],
   "source": [
    "counter = 0\n",
    "\n",
    "def add_to_counter():\n",
    "    counter += 12 # add 12 to counter\n",
    "\n",
    "add_to_counter()"
   ]
  },
  {
   "cell_type": "code",
   "execution_count": 1,
   "metadata": {},
   "outputs": [
    {
     "name": "stdout",
     "output_type": "stream",
     "text": [
      "12\n"
     ]
    }
   ],
   "source": [
    "counter = 0\n",
    "\n",
    "def add_to_counter(count):\n",
    "    return count + 12  # add 12 to counter\n",
    "\n",
    "counter = add_to_counter(counter)\n",
    "\n",
    "print(counter)"
   ]
  },
  {
   "cell_type": "code",
   "execution_count": null,
   "metadata": {},
   "outputs": [],
   "source": []
  },
  {
   "cell_type": "markdown",
   "metadata": {},
   "source": [
    "## Exercise 1"
   ]
  },
  {
   "cell_type": "markdown",
   "metadata": {},
   "source": [
    "Write a function called check_range that checks whether a number is in a given range (inclusive of both low *__and__* high). <br>\n",
    "If it is, return \"x is between y and z.\" <br>\n",
    "If it isn't, return \"x is NOT between y and z.\" <br>\n",
    "Where:\n",
    "- x is the number\n",
    "- y is the lower bound\n",
    "- z is the upper bound"
   ]
  },
  {
   "cell_type": "code",
   "execution_count": 24,
   "metadata": {},
   "outputs": [],
   "source": [
    "# CODE HERE"
   ]
  },
  {
   "cell_type": "code",
   "execution_count": 25,
   "metadata": {},
   "outputs": [
    {
     "name": "stdout",
     "output_type": "stream",
     "text": [
      "34 is between 9 and 228\n"
     ]
    }
   ],
   "source": [
    "check_range(34, 9, 228)"
   ]
  },
  {
   "cell_type": "code",
   "execution_count": 26,
   "metadata": {},
   "outputs": [
    {
     "name": "stdout",
     "output_type": "stream",
     "text": [
      "7 is NOT between 2 and 5\n"
     ]
    }
   ],
   "source": [
    "check_range(7, 2, 5)"
   ]
  },
  {
   "cell_type": "markdown",
   "metadata": {},
   "source": [
    "Write a function called bool_range which does the same thing but returns only a boolean."
   ]
  },
  {
   "cell_type": "code",
   "execution_count": 27,
   "metadata": {},
   "outputs": [],
   "source": [
    "# CODE HERE"
   ]
  },
  {
   "cell_type": "code",
   "execution_count": 28,
   "metadata": {},
   "outputs": [
    {
     "data": {
      "text/plain": [
       "True"
      ]
     },
     "execution_count": 28,
     "metadata": {},
     "output_type": "execute_result"
    }
   ],
   "source": [
    "bool_range(7, 5, 20)"
   ]
  },
  {
   "cell_type": "code",
   "execution_count": 29,
   "metadata": {},
   "outputs": [
    {
     "data": {
      "text/plain": [
       "False"
      ]
     },
     "execution_count": 29,
     "metadata": {},
     "output_type": "execute_result"
    }
   ],
   "source": [
    "bool_range(67, 22, 25)"
   ]
  },
  {
   "cell_type": "markdown",
   "metadata": {},
   "source": [
    "## Exercise 2"
   ]
  },
  {
   "cell_type": "markdown",
   "metadata": {},
   "source": [
    "Write a function called unique_list that takes in a list and returns a list with only the unique elements of the input."
   ]
  },
  {
   "cell_type": "code",
   "execution_count": 10,
   "metadata": {},
   "outputs": [],
   "source": [
    "# CODE HERE"
   ]
  },
  {
   "cell_type": "code",
   "execution_count": 30,
   "metadata": {},
   "outputs": [
    {
     "data": {
      "text/plain": [
       "[1, 3, 5, 6, 4, 2, 12, 63]"
      ]
     },
     "execution_count": 30,
     "metadata": {},
     "output_type": "execute_result"
    }
   ],
   "source": [
    "my_list = [1,3,5,6,4,3,2,3,3,4,3,4,5,6,6,4,3,2,12,3,5,63,4,5,3,3,2]\n",
    "\n",
    "unique_list(my_list)"
   ]
  },
  {
   "cell_type": "markdown",
   "metadata": {},
   "source": [
    "Find another way of performing the same operation without defining a function."
   ]
  },
  {
   "cell_type": "code",
   "execution_count": 31,
   "metadata": {},
   "outputs": [
    {
     "data": {
      "text/plain": [
       "[1, 2, 3, 4, 5, 6, 12, 63]"
      ]
     },
     "execution_count": 31,
     "metadata": {},
     "output_type": "execute_result"
    }
   ],
   "source": [
    "# CODE HERE"
   ]
  },
  {
   "cell_type": "markdown",
   "metadata": {},
   "source": [
    "## Exercise 3"
   ]
  },
  {
   "cell_type": "markdown",
   "metadata": {},
   "source": [
    "Write a function called volume_of_sphere that takes in the radius of a sphere and returns its volume rounded to 2dp. (Google the formula for volume of a sphere, use pi = 3.14)"
   ]
  },
  {
   "cell_type": "code",
   "execution_count": 8,
   "metadata": {},
   "outputs": [],
   "source": [
    "# CODE HERE"
   ]
  },
  {
   "cell_type": "code",
   "execution_count": 9,
   "metadata": {},
   "outputs": [
    {
     "data": {
      "text/plain": [
       "33.49"
      ]
     },
     "execution_count": 9,
     "metadata": {},
     "output_type": "execute_result"
    }
   ],
   "source": [
    "volume_of_sphere(2)"
   ]
  },
  {
   "cell_type": "code",
   "execution_count": null,
   "metadata": {},
   "outputs": [],
   "source": []
  },
  {
   "cell_type": "markdown",
   "metadata": {},
   "source": [
    "## Recursion"
   ]
  },
  {
   "cell_type": "markdown",
   "metadata": {},
   "source": [
    "- A recursive function is a function that calls itself within its definition.\n",
    "- This can be hard to get your head around at first, but think of it as a breaking a big problem down into doing a small problem many times over.\n",
    "- This means that a complex problem can be made increasingly simpler by repeatedly doing a simpler and simpler and simpler form of the same problem with each repetition.\n",
    "- However, we must provide a 'simplest form' of the function where the function stops, otherwise it will repeat forever and throw an error.\n",
    "- We call this 'simplest form' a base case.\n",
    "- This is best illustrated with an example:"
   ]
  },
  {
   "cell_type": "code",
   "execution_count": 3,
   "metadata": {},
   "outputs": [
    {
     "name": "stdout",
     "output_type": "stream",
     "text": [
      "5\n",
      "4\n",
      "3\n",
      "2\n",
      "1\n",
      "0\n"
     ]
    }
   ],
   "source": [
    "# Function that takes in as input the starting number to countdown from\n",
    "def countdown(n):\n",
    "    \n",
    "    # base case: this is where the function will eventually stop\n",
    "    if n == 0:\n",
    "        print(0)\n",
    "        \n",
    "    # here we reduce the problem into a simpler version\n",
    "    else:\n",
    "        \n",
    "        # we print the countdown number\n",
    "        print(n)\n",
    "        \n",
    "        # we repeat the function with the next smallest number\n",
    "        countdown(n-1)\n",
    "        \n",
    "\n",
    "countdown(5)"
   ]
  },
  {
   "cell_type": "code",
   "execution_count": null,
   "metadata": {},
   "outputs": [],
   "source": []
  },
  {
   "cell_type": "markdown",
   "metadata": {},
   "source": [
    "## Exercise 4"
   ]
  },
  {
   "cell_type": "markdown",
   "metadata": {},
   "source": [
    "Define a recursive function called num_fact that returns the factorial of a given number."
   ]
  },
  {
   "cell_type": "code",
   "execution_count": 12,
   "metadata": {},
   "outputs": [],
   "source": [
    "# CODE HERE"
   ]
  },
  {
   "cell_type": "code",
   "execution_count": 13,
   "metadata": {},
   "outputs": [
    {
     "data": {
      "text/plain": [
       "3628800"
      ]
     },
     "execution_count": 13,
     "metadata": {},
     "output_type": "execute_result"
    }
   ],
   "source": [
    "num_fact(10)"
   ]
  },
  {
   "cell_type": "code",
   "execution_count": null,
   "metadata": {},
   "outputs": [],
   "source": []
  },
  {
   "cell_type": "markdown",
   "metadata": {},
   "source": [
    "## Summary\n",
    "Congratulations, you are now able to program in Python! <br>\n",
    "\n",
    "You should now understand:\n",
    "- How functions work in Python.\n",
    "- The nature of variable scope.\n",
    "- The idea of recursion.\n",
    "<br><br>\n",
    "\n",
    "You should now know:\n",
    "- How to define a function.\n",
    "- How to call a function.\n",
    "- How to use the help() function.\n",
    "- How to use recursive functions.\n",
    "\n",
    "## Further reading\n",
    "- Python Function Definitions: https://docs.python.org/3/reference/compound_stmts.html#function-definitions\n",
    "- Python Docstring Conventions: https://www.python.org/dev/peps/pep-0257/"
   ]
  },
  {
   "cell_type": "code",
   "execution_count": null,
   "metadata": {},
   "outputs": [],
   "source": []
  }
 ],
 "metadata": {
  "kernelspec": {
   "display_name": "Python 3",
   "language": "python",
   "name": "python3"
  },
  "language_info": {
   "codemirror_mode": {
    "name": "ipython",
    "version": 3
   },
   "file_extension": ".py",
   "mimetype": "text/x-python",
   "name": "python",
   "nbconvert_exporter": "python",
   "pygments_lexer": "ipython3",
   "version": "3.7.6"
  }
 },
 "nbformat": 4,
 "nbformat_minor": 2
}
