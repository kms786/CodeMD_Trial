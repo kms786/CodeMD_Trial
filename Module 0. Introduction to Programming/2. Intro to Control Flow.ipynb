{
 "cells": [
  {
   "cell_type": "markdown",
   "metadata": {},
   "source": [
    "# Python Prelude 3: Introduction to Control Flow"
   ]
  },
  {
   "cell_type": "markdown",
   "metadata": {},
   "source": [
    "## Learning objectives\n",
    "- Understand the idea of control flow and basic programming.\n",
    "- Know how to use if statements.\n",
    "- Know how to use elif and else statements.\n",
    "- Understand the idea of iteration.\n",
    "- Understand indefinite iteration.\n",
    "- Know how to use while loops."
   ]
  },
  {
   "cell_type": "markdown",
   "metadata": {},
   "source": [
    "# Control Flow"
   ]
  },
  {
   "cell_type": "markdown",
   "metadata": {},
   "source": [
    "- Control Flow is the order of execution of instructions in a computer program.\n",
    "- A program is a series of instructions called statements.\n",
    "- The order in which those statements are executed can vary.\n",
    "- Control flow allows for decision making (conditional statements), branching and loops in code."
   ]
  },
  {
   "cell_type": "markdown",
   "metadata": {},
   "source": [
    "## Conditional Statements"
   ]
  },
  {
   "cell_type": "markdown",
   "metadata": {},
   "source": [
    "### If statements\n",
    "\n",
    "- An if statement is a piece of code that causes another piece of code to be executed based on the fulfillment of a condition.\n",
    "- If statements employ boolean operators to check whether something is true, and so whether or not to execute a piece of code.\n",
    "- The basic syntax for an if statement in pseudo-code is as follows:"
   ]
  },
  {
   "cell_type": "code",
   "execution_count": 1,
   "metadata": {},
   "outputs": [],
   "source": [
    "# if some_condition:\n",
    "#     do_something"
   ]
  },
  {
   "cell_type": "markdown",
   "metadata": {},
   "source": [
    "- Note the indentation: Python determines precedence based on indentation/whitespace rather than brackets, like other languages.\n",
    "- The standard practice for indentation as recommended by PEP8 guidelines is 4 spaces, but you can also use a tab.\n",
    "- However, you cannot mix spaces and tabs for indentation.\n",
    "- Jupyter Notebook - like many other IDEs - will automatically indent after a colon."
   ]
  },
  {
   "cell_type": "markdown",
   "metadata": {},
   "source": [
    "### Elif and else statements\n",
    "\n",
    "- Elif ('else if') statements add a block of code to be executed if the first condition is not fulfilled.\n",
    "- Else statements add a block of code to be executed if none of the previous conditions are fulfilled.\n",
    "- The syntax is as follows, again note the whitespace alignment:"
   ]
  },
  {
   "cell_type": "code",
   "execution_count": 5,
   "metadata": {},
   "outputs": [],
   "source": [
    "# if some_condition:\n",
    "#     do_something\n",
    "# elif some_other_condition:\n",
    "#     do_something_else\n",
    "# else:\n",
    "#     do_this"
   ]
  },
  {
   "cell_type": "markdown",
   "metadata": {},
   "source": [
    "### Examples"
   ]
  },
  {
   "cell_type": "code",
   "execution_count": 4,
   "metadata": {},
   "outputs": [
    {
     "name": "stdout",
     "output_type": "stream",
     "text": [
      "x is even\n"
     ]
    }
   ],
   "source": [
    "x = 10\n",
    "\n",
    "if x%2 == 0:\n",
    "    print(\"x is even\")"
   ]
  },
  {
   "cell_type": "code",
   "execution_count": 6,
   "metadata": {},
   "outputs": [
    {
     "name": "stdout",
     "output_type": "stream",
     "text": [
      "A is smaller than B\n"
     ]
    }
   ],
   "source": [
    "a = 1\n",
    "b = 2\n",
    "\n",
    "if a > b:\n",
    "    print(\"A is larger than B\")\n",
    "elif a < b:\n",
    "    print (\"A is smaller than B\")\n",
    "else:\n",
    "    print (\"A is equal to B\")"
   ]
  },
  {
   "cell_type": "markdown",
   "metadata": {},
   "source": [
    "## Loops"
   ]
  },
  {
   "cell_type": "markdown",
   "metadata": {},
   "source": [
    "### Iteration\n",
    "\n",
    "- Iterable: data structure capable of returning its elements one at a time e.g. list, tuple, string, dictionary(d.keys() returns a list).\n",
    "- Iteration: performing the same operation repeatedly (often over each element of an iterable).\n",
    "- e.g. multiplying each element in a list by 2, or taking index 0 of each item in a list of strings."
   ]
  },
  {
   "cell_type": "markdown",
   "metadata": {},
   "source": [
    "### While Loops\n",
    "- While loops perform the same operation WHILE some boolean condition is fulfilled.\n",
    "- This is called indefinite iteration: where the number of iterations is unknown.\n",
    "- We will not cover while loops in great detail as they are not useful to data science."
   ]
  },
  {
   "cell_type": "markdown",
   "metadata": {},
   "source": [
    "### Basic Syntax"
   ]
  },
  {
   "cell_type": "code",
   "execution_count": 2,
   "metadata": {},
   "outputs": [],
   "source": [
    "# while some_condition:\n",
    "#     do_something\n",
    "# else:\n",
    "#     do_something_else"
   ]
  },
  {
   "cell_type": "markdown",
   "metadata": {},
   "source": [
    "We can break the syntax down as follows:\n",
    "- The while keyword: this is the key to the statement, it indicates a while loop and refers to some_condition.\n",
    "- The condition: the while keyword checks whether this condition is True, and executes the dependent block of code if it is.\n",
    "- do_something: this is the block of code to execute if the condition is True.\n",
    "- else statement: this is the block of code to execute if the condition is False.\n",
    "- __While__ the condition is __True__, the block of code will be executed, and the program will then __loop back__ to the while statement, recheck the condition, and execute again.\n",
    "- This continues __INDEFINITELY__ until the condition is untrue: hence indefinite iteration.\n",
    "- One of the most common mistakes is creating an __infinite loop__, where the condition __does not become untrue__, and hence the code continues to execute, taking up increasing memory until your computer crashes.\n",
    "- Hence we must include some way of changing the condition inside the loop, either in the do_something statement or using a break keyword (mentioned below)."
   ]
  },
  {
   "cell_type": "markdown",
   "metadata": {},
   "source": [
    "### Example"
   ]
  },
  {
   "cell_type": "code",
   "execution_count": 1,
   "metadata": {},
   "outputs": [
    {
     "name": "stdout",
     "output_type": "stream",
     "text": [
      "The current value of x is 0\n",
      "The current value of x is 1\n",
      "The current value of x is 2\n",
      "The current value of x is 3\n",
      "The current value of x is 4\n",
      "x not less than 5\n"
     ]
    }
   ],
   "source": [
    "x = 0\n",
    "\n",
    "while x < 5:\n",
    "    print(f\"The current value of x is {x}\")\n",
    "    x += 1\n",
    "else:\n",
    "    print(\"x not less than 5\")"
   ]
  },
  {
   "cell_type": "markdown",
   "metadata": {},
   "source": [
    "### Break Keyword"
   ]
  },
  {
   "cell_type": "markdown",
   "metadata": {},
   "source": [
    "- We can use break to break out of an enclosing loop: usually it is used with an if statement in order to break the loop if some condition is fulfilled.\n",
    "- If the break keyword is run, the code will not loop back to the top, it will stop executing there and move onto the next statement.\n",
    "- We can see this here because 2 is not printed: the print statement is indented, and so is a later part of the loop."
   ]
  },
  {
   "cell_type": "code",
   "execution_count": 3,
   "metadata": {},
   "outputs": [
    {
     "name": "stdout",
     "output_type": "stream",
     "text": [
      "0\n",
      "1\n"
     ]
    }
   ],
   "source": [
    "x = 0\n",
    "while x < 5:\n",
    "    if x == 2:\n",
    "        break\n",
    "    print(x)\n",
    "    x += 1"
   ]
  },
  {
   "cell_type": "markdown",
   "metadata": {},
   "source": [
    "## Control Flow Questions"
   ]
  },
  {
   "cell_type": "markdown",
   "metadata": {},
   "source": [
    "### Question 1"
   ]
  },
  {
   "cell_type": "markdown",
   "metadata": {},
   "source": [
    "Given 2 parameters, height and weight, calculate the parameter BMI (Google the formula) (For simplicity, work in metres and kg).\n",
    "<br><br>\n",
    "Using the parameter BMI, write a series of if statements that print the following outcomes:\n",
    "<br>\n",
    "- below 18.5 –-> 'Your BMI is x. You're in the underweight range.'\n",
    "- between 18.5 and 24.9 –-> 'Your BMI is x. You're in the healthy weight range.'\n",
    "- between 25 and 29.9 –-> 'Your BMI is x. You're in the overweight range.'\n",
    "- between 30 and 39.9 –-> 'Your BMI is x. You're in the obese range.'\n",
    "<br>\n",
    "\n",
    "Test your code with the following cases by substituting them in for weight and height values in your code:<br>\n",
    "Height 1.83m, Weight 85kg<br>\n",
    "Height 1.55m, Weight 61kg<br>\n",
    "Height 2.09m, Weight 135kg<br>\n",
    "Height 1.71m, Weight 70kg<br>\n",
    "Height 1.71m, Weight 95kg<br>\n",
    "Height 1.71m, Weight 55kg\n",
    "<br><br>\n",
    "(Once again, this is a tedious process that will show the obvious value of for loops and functions when we cover them)"
   ]
  },
  {
   "cell_type": "code",
   "execution_count": null,
   "metadata": {},
   "outputs": [],
   "source": [
    "weight = #\n",
    "height = #\n",
    "\n",
    "# CODE HERE"
   ]
  },
  {
   "cell_type": "markdown",
   "metadata": {},
   "source": [
    "### Question 2"
   ]
  },
  {
   "cell_type": "markdown",
   "metadata": {},
   "source": [
    "Given 2 parameters, altitude(ft) and airspeed(knots), write a program that categorises entries into 'safe flying' and 'unsafe flying' based on the following criteria:\n",
    "\n",
    "- An altitude of below 100ft or above 50000ft is considered unsafe flying.\n",
    "- An airspeed of 60 knots and below or 500 knots and above is considered unsafe flying.\n",
    "- Altitudes and airspeeds outside these ranges are considered safe flying.\n",
    "\n",
    "CLUE: You will have to figure out the syntax for using __and__/__or__ keywords in if statements, __this may be tough but stick at it__.\n",
    "\n",
    "Try to write this as cleanly as possible and test your code with the following by substituting in again:\n",
    "- altitude 25000ft, airspeed 300kn\n",
    "- altitude 50001ft, airspeed 250kn\n",
    "- altitude 90ft, airspeed 125kn\n",
    "- altitude 500ft, airspeed 45kn\n",
    "- altitude 1000ft, airspeed 600kn\n",
    "- altitude 65000ft, airspeed 700kn"
   ]
  },
  {
   "cell_type": "code",
   "execution_count": null,
   "metadata": {},
   "outputs": [],
   "source": [
    "altitude = #\n",
    "airspeed = #\n",
    "\n",
    "# CODE HERE"
   ]
  },
  {
   "cell_type": "markdown",
   "metadata": {},
   "source": [
    "## Summary\n",
    "We now understand:\n",
    "\n",
    "- The basics of control flow and the order in which code is executed.\n",
    "- The idea of iteration and indefinite iteration in particular.\n",
    "\n",
    "We now know:\n",
    "\n",
    "- How to employ conditional statements to manipulate control flow in code.\n",
    "- How to use a while loop.\n",
    "\n",
    "\n",
    "## Further reading\n",
    "- Control flow: https://docs.python.org/3.8/tutorial/controlflow.html?highlight=control%20flow\n",
    "- While statements: https://docs.python.org/3.8/reference/compound_stmts.html#while"
   ]
  },
  {
   "cell_type": "code",
   "execution_count": null,
   "metadata": {},
   "outputs": [],
   "source": []
  }
 ],
 "metadata": {
  "kernelspec": {
   "display_name": "Python 3",
   "language": "python",
   "name": "python3"
  },
  "language_info": {
   "codemirror_mode": {
    "name": "ipython",
    "version": 3
   },
   "file_extension": ".py",
   "mimetype": "text/x-python",
   "name": "python",
   "nbconvert_exporter": "python",
   "pygments_lexer": "ipython3",
   "version": "3.7.6"
  }
 },
 "nbformat": 4,
 "nbformat_minor": 2
}
