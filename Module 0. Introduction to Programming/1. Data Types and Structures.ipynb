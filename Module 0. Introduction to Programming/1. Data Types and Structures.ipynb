{
 "cells": [
  {
   "cell_type": "markdown",
   "metadata": {},
   "source": [
    "# Python Prelude 2: Data Types and Data Structures"
   ]
  },
  {
   "cell_type": "markdown",
   "metadata": {},
   "source": [
    "## Learning objectives\n",
    "- Understand the nature of a list.\n",
    "- Know how to index and slice a list.\n",
    "- Know some ways to add items to a list.\n",
    "- Know some methods associated with a list.\n",
    "<br> <br>\n",
    "- Understand the nature of a dictionary.\n",
    "- Know how to index a dictionary.\n",
    "- Know some functions and methods associated with a dictionary.\n",
    "<br><br>\n",
    "- Understand the nature of a tuple and the basic idea of mutability.\n",
    "- Understand tuple assignment and tuple unpacking.\n",
    "- Know how perform tuple indexing/slicing.\n",
    "- Know some tuple methods.\n",
    "<br> <br>\n",
    "- Understand the basics of the Boolean data type (bool).\n",
    "- Know how to use comparison operators.\n",
    "- Know how to use boolean operators."
   ]
  },
  {
   "cell_type": "markdown",
   "metadata": {},
   "source": [
    "## Lists"
   ]
  },
  {
   "cell_type": "markdown",
   "metadata": {},
   "source": [
    "- Powerful data type in Python.\n",
    "- Denoted by square brackets [].\n",
    "- Store items as a mutable ordered sequence of elements.\n",
    "- Each element in a list is an item.\n",
    "- Support indexing and slicing.\n",
    "- Can nest lists within each other."
   ]
  },
  {
   "cell_type": "markdown",
   "metadata": {},
   "source": [
    "### Some definitions\n",
    "- Mutable: can be changed after creation (supports addition/removal/reassignment of items).\n",
    "- Ordered: as it sounds, has a fixed order (the order of elements provided at the time of assignment) and so can be indexed using numbers.\n",
    "- Hence a list \\[2,1,3,4\\] will not be rearranged, 2 will be the first element, 1 will be the second... etc.\n",
    "- Sequence of elements: fairly self explanatory."
   ]
  },
  {
   "cell_type": "code",
   "execution_count": 2,
   "metadata": {},
   "outputs": [],
   "source": [
    "# can handle multiple object types\n",
    "my_list = [3, \"three\", 3.0, True]"
   ]
  },
  {
   "cell_type": "code",
   "execution_count": 95,
   "metadata": {},
   "outputs": [
    {
     "data": {
      "text/plain": [
       "int"
      ]
     },
     "execution_count": 95,
     "metadata": {},
     "output_type": "execute_result"
    }
   ],
   "source": [
    "# can use the type() function to check the data type of an object\n",
    "type(3)"
   ]
  },
  {
   "cell_type": "code",
   "execution_count": 96,
   "metadata": {},
   "outputs": [
    {
     "data": {
      "text/plain": [
       "str"
      ]
     },
     "execution_count": 96,
     "metadata": {},
     "output_type": "execute_result"
    }
   ],
   "source": [
    "type(\"three\")"
   ]
  },
  {
   "cell_type": "code",
   "execution_count": 97,
   "metadata": {},
   "outputs": [
    {
     "data": {
      "text/plain": [
       "float"
      ]
     },
     "execution_count": 97,
     "metadata": {},
     "output_type": "execute_result"
    }
   ],
   "source": [
    "type(3.0)"
   ]
  },
  {
   "cell_type": "code",
   "execution_count": 98,
   "metadata": {},
   "outputs": [
    {
     "data": {
      "text/plain": [
       "bool"
      ]
     },
     "execution_count": 98,
     "metadata": {},
     "output_type": "execute_result"
    }
   ],
   "source": [
    "type(True)"
   ]
  },
  {
   "cell_type": "code",
   "execution_count": 3,
   "metadata": {},
   "outputs": [
    {
     "data": {
      "text/plain": [
       "list"
      ]
     },
     "execution_count": 3,
     "metadata": {},
     "output_type": "execute_result"
    }
   ],
   "source": [
    "type(my_list)"
   ]
  },
  {
   "cell_type": "markdown",
   "metadata": {},
   "source": [
    "### Indexing and Slicing"
   ]
  },
  {
   "cell_type": "markdown",
   "metadata": {},
   "source": [
    "In Python, slicing:\n",
    "\n",
    "- Starts at 0 (zero).\n",
    "- Is inclusive at the lower bound (including).\n",
    "- Is exclusive at the upper bound (up to but not including)."
   ]
  },
  {
   "cell_type": "code",
   "execution_count": 5,
   "metadata": {},
   "outputs": [
    {
     "data": {
      "text/plain": [
       "[3, 'three', 3.0, True]"
      ]
     },
     "execution_count": 5,
     "metadata": {},
     "output_type": "execute_result"
    }
   ],
   "source": [
    "my_list = [3, \"three\", 3.0, True]\n",
    "my_list"
   ]
  },
  {
   "cell_type": "code",
   "execution_count": 6,
   "metadata": {},
   "outputs": [
    {
     "data": {
      "text/plain": [
       "'three'"
      ]
     },
     "execution_count": 6,
     "metadata": {},
     "output_type": "execute_result"
    }
   ],
   "source": [
    "# Index 0 gives first element\n",
    "my_list[1]"
   ]
  },
  {
   "cell_type": "code",
   "execution_count": 7,
   "metadata": {},
   "outputs": [
    {
     "data": {
      "text/plain": [
       "['three', 3.0]"
      ]
     },
     "execution_count": 7,
     "metadata": {},
     "output_type": "execute_result"
    }
   ],
   "source": [
    "# Use colon to indicate slice, 1:3 returns 2nd and 3rd items but not 4th\n",
    "my_list[1:3]"
   ]
  },
  {
   "cell_type": "code",
   "execution_count": 8,
   "metadata": {},
   "outputs": [
    {
     "data": {
      "text/plain": [
       "['three', 3.0, True]"
      ]
     },
     "execution_count": 8,
     "metadata": {},
     "output_type": "execute_result"
    }
   ],
   "source": [
    "# No upper bound starts with first index indicated and gives everything beyond\n",
    "my_list[1:]"
   ]
  },
  {
   "cell_type": "code",
   "execution_count": 9,
   "metadata": {},
   "outputs": [
    {
     "data": {
      "text/plain": [
       "[3, 'three', 3.0]"
      ]
     },
     "execution_count": 9,
     "metadata": {},
     "output_type": "execute_result"
    }
   ],
   "source": [
    "# No lower bound starts from index 0, up to but not including upper bound\n",
    "my_list[:3]"
   ]
  },
  {
   "cell_type": "code",
   "execution_count": 10,
   "metadata": {},
   "outputs": [
    {
     "data": {
      "text/plain": [
       "[3, 'THREE', 3.0, True]"
      ]
     },
     "execution_count": 10,
     "metadata": {},
     "output_type": "execute_result"
    }
   ],
   "source": [
    "# can reassign elements in lists to new values\n",
    "my_list[1] = my_list[1].upper()\n",
    "my_list"
   ]
  },
  {
   "cell_type": "code",
   "execution_count": 11,
   "metadata": {},
   "outputs": [
    {
     "data": {
      "text/plain": [
       "[3, 'THREE', 3.0, True, 'new item']"
      ]
     },
     "execution_count": 11,
     "metadata": {},
     "output_type": "execute_result"
    }
   ],
   "source": [
    "# Can add lists, does not change original list\n",
    "my_list + ['new item']"
   ]
  },
  {
   "cell_type": "code",
   "execution_count": 12,
   "metadata": {},
   "outputs": [
    {
     "data": {
      "text/plain": [
       "[3, 'THREE', 3.0, True, 'add new item permanently']"
      ]
     },
     "execution_count": 12,
     "metadata": {},
     "output_type": "execute_result"
    }
   ],
   "source": [
    "# Must reassign list to change original\n",
    "my_list = my_list + ['add new item permanently']\n",
    "\n",
    "my_list"
   ]
  },
  {
   "cell_type": "code",
   "execution_count": 13,
   "metadata": {},
   "outputs": [
    {
     "data": {
      "text/plain": [
       "[3,\n",
       " 'THREE',\n",
       " 3.0,\n",
       " True,\n",
       " 'add new item permanently',\n",
       " 3,\n",
       " 'THREE',\n",
       " 3.0,\n",
       " True,\n",
       " 'add new item permanently']"
      ]
     },
     "execution_count": 13,
     "metadata": {},
     "output_type": "execute_result"
    }
   ],
   "source": [
    "# Can multiply, same principle applies\n",
    "my_list * 2"
   ]
  },
  {
   "cell_type": "code",
   "execution_count": 14,
   "metadata": {},
   "outputs": [
    {
     "data": {
      "text/plain": [
       "[[1, 2, 3], [4, 5, 6], [7, 8, 9]]"
      ]
     },
     "execution_count": 14,
     "metadata": {},
     "output_type": "execute_result"
    }
   ],
   "source": [
    "# Lists can be an item within a list\n",
    "# Lists within lists are called nested\n",
    "lst_1=[1,2,3]\n",
    "lst_2=[4,5,6]\n",
    "lst_3=[7,8,9]\n",
    "\n",
    "# Make a list of lists to form a nested list\n",
    "nest_list = [lst_1,lst_2,lst_3]\n",
    "nest_list"
   ]
  },
  {
   "cell_type": "code",
   "execution_count": 15,
   "metadata": {},
   "outputs": [
    {
     "data": {
      "text/plain": [
       "5"
      ]
     },
     "execution_count": 15,
     "metadata": {},
     "output_type": "execute_result"
    }
   ],
   "source": [
    "nest_list[1][1]"
   ]
  },
  {
   "cell_type": "markdown",
   "metadata": {},
   "source": [
    "### List Functions and Methods"
   ]
  },
  {
   "cell_type": "code",
   "execution_count": 16,
   "metadata": {},
   "outputs": [
    {
     "data": {
      "text/plain": [
       "5"
      ]
     },
     "execution_count": 16,
     "metadata": {},
     "output_type": "execute_result"
    }
   ],
   "source": [
    "# use len() function to check length\n",
    "len(my_list)"
   ]
  },
  {
   "cell_type": "code",
   "execution_count": 17,
   "metadata": {},
   "outputs": [
    {
     "name": "stdout",
     "output_type": "stream",
     "text": [
      "1\n",
      "9\n"
     ]
    }
   ],
   "source": [
    "# use min() and max() to find highest and lowest item in lists\n",
    "# works in alphabetical order with strings\n",
    "\n",
    "new_list = [1,2,3,4,5,6,7,8,9]\n",
    "\n",
    "print(min(new_list))\n",
    "print(max(new_list))"
   ]
  },
  {
   "cell_type": "markdown",
   "metadata": {},
   "source": [
    "#### .append() vs .extend()\n",
    "- .append() adds items to the end of a list.\n",
    "- .extend() adds items in a list (or other iterable) itemwise to the end of a list.\n",
    "- We can see the difference in addition below."
   ]
  },
  {
   "cell_type": "code",
   "execution_count": 18,
   "metadata": {},
   "outputs": [
    {
     "data": {
      "text/plain": [
       "[3, 'THREE', 3.0, True, 'add new item permanently', [1, 2, 3]]"
      ]
     },
     "execution_count": 18,
     "metadata": {},
     "output_type": "execute_result"
    }
   ],
   "source": [
    "# add items by .append() method\n",
    "\n",
    "my_list.append([1,2,3])\n",
    "\n",
    "my_list"
   ]
  },
  {
   "cell_type": "code",
   "execution_count": 19,
   "metadata": {},
   "outputs": [
    {
     "data": {
      "text/plain": [
       "[3, 'THREE', 3.0, True, 'add new item permanently', [1, 2, 3], 1, 2, 3]"
      ]
     },
     "execution_count": 19,
     "metadata": {},
     "output_type": "execute_result"
    }
   ],
   "source": [
    "# add items in iterable itemwise by .extend() method\n",
    "\n",
    "my_list.extend([1,2,3])\n",
    "\n",
    "my_list"
   ]
  },
  {
   "cell_type": "code",
   "execution_count": 20,
   "metadata": {},
   "outputs": [
    {
     "data": {
      "text/plain": [
       "3"
      ]
     },
     "execution_count": 20,
     "metadata": {},
     "output_type": "execute_result"
    }
   ],
   "source": [
    "# use .pop method to remove and return last item\n",
    "my_list.pop()"
   ]
  },
  {
   "cell_type": "code",
   "execution_count": 21,
   "metadata": {},
   "outputs": [
    {
     "data": {
      "text/plain": [
       "'THREE'"
      ]
     },
     "execution_count": 21,
     "metadata": {},
     "output_type": "execute_result"
    }
   ],
   "source": [
    "# can index, default index -1\n",
    "my_list.pop(1)"
   ]
  },
  {
   "cell_type": "code",
   "execution_count": 22,
   "metadata": {},
   "outputs": [
    {
     "data": {
      "text/plain": [
       "2"
      ]
     },
     "execution_count": 22,
     "metadata": {},
     "output_type": "execute_result"
    }
   ],
   "source": [
    "# returned item can be assigned to variable\n",
    "\n",
    "popped_item = my_list.pop()\n",
    "\n",
    "popped_item"
   ]
  },
  {
   "cell_type": "code",
   "execution_count": 23,
   "metadata": {},
   "outputs": [],
   "source": [
    "# use .sort() method to sort list, changes original list, no returned value\n",
    "\n",
    "let_list = [\"a\", \"d\", \"v\", \"x\", \"g\"]\n",
    "\n",
    "num_list = [13,42,4,24,2,46,3,7]"
   ]
  },
  {
   "cell_type": "code",
   "execution_count": 24,
   "metadata": {},
   "outputs": [],
   "source": [
    "let_list.sort()\n",
    "num_list.sort()"
   ]
  },
  {
   "cell_type": "code",
   "execution_count": 25,
   "metadata": {},
   "outputs": [
    {
     "name": "stdout",
     "output_type": "stream",
     "text": [
      "['a', 'd', 'g', 'v', 'x']\n",
      "[2, 3, 4, 7, 13, 24, 42, 46]\n"
     ]
    }
   ],
   "source": [
    "print(let_list)\n",
    "print(num_list)"
   ]
  },
  {
   "cell_type": "code",
   "execution_count": 26,
   "metadata": {},
   "outputs": [
    {
     "name": "stdout",
     "output_type": "stream",
     "text": [
      "[46, 42, 24, 13, 7, 4, 3, 2]\n"
     ]
    }
   ],
   "source": [
    "# use .reverse() method to reverse list\n",
    "num_list.reverse()\n",
    "\n",
    "print(num_list)"
   ]
  },
  {
   "cell_type": "code",
   "execution_count": 27,
   "metadata": {},
   "outputs": [
    {
     "data": {
      "text/plain": [
       "'This is a sentence.'"
      ]
     },
     "execution_count": 27,
     "metadata": {},
     "output_type": "execute_result"
    }
   ],
   "source": [
    "# use \"sep\".join(list) to join a list of strings using a separator\n",
    "\n",
    "list_of_strings = [\"This\", \"is\", \"a\", \"sentence.\"]\n",
    "\n",
    "\" \".join(list_of_strings)"
   ]
  },
  {
   "cell_type": "code",
   "execution_count": null,
   "metadata": {},
   "outputs": [],
   "source": []
  },
  {
   "cell_type": "markdown",
   "metadata": {},
   "source": [
    "## Lists Exercises"
   ]
  },
  {
   "cell_type": "markdown",
   "metadata": {},
   "source": [
    "### Question 1:\n",
    "Write a program that checks if the two words in a two-word string start with the same letter. <br>\n",
    "Copy-paste (and slightly modify) your code to try it for both cases."
   ]
  },
  {
   "cell_type": "code",
   "execution_count": 57,
   "metadata": {},
   "outputs": [
    {
     "data": {
      "text/plain": [
       "True"
      ]
     },
     "execution_count": 57,
     "metadata": {},
     "output_type": "execute_result"
    }
   ],
   "source": [
    "phrase1 = 'Clean Couch'\n",
    "\n",
    "# CODE HERE"
   ]
  },
  {
   "cell_type": "code",
   "execution_count": 58,
   "metadata": {},
   "outputs": [
    {
     "data": {
      "text/plain": [
       "False"
      ]
     },
     "execution_count": 58,
     "metadata": {},
     "output_type": "execute_result"
    }
   ],
   "source": [
    "phrase2 = 'Giant Table'\n",
    "\n",
    "# CODE HERE"
   ]
  },
  {
   "cell_type": "markdown",
   "metadata": {},
   "source": [
    "### Question 2:\n",
    "Write a program that returns a string with the __words__ reversed.\n",
    "Once again, try the same operation with both test cases."
   ]
  },
  {
   "cell_type": "code",
   "execution_count": 61,
   "metadata": {},
   "outputs": [
    {
     "data": {
      "text/plain": [
       "'phrase short a is This'"
      ]
     },
     "execution_count": 61,
     "metadata": {},
     "output_type": "execute_result"
    }
   ],
   "source": [
    "my_string1 = 'This is a short phrase'\n",
    "\n",
    "# CODE HERE"
   ]
  },
  {
   "cell_type": "code",
   "execution_count": 62,
   "metadata": {},
   "outputs": [
    {
     "data": {
      "text/plain": [
       "'one previous the than phrase longer significantly a actually is This'"
      ]
     },
     "execution_count": 62,
     "metadata": {},
     "output_type": "execute_result"
    }
   ],
   "source": [
    "my_string2 = 'This is actually a significantly longer phrase than the previous one'\n",
    "\n",
    "# CODE HERE"
   ]
  },
  {
   "cell_type": "markdown",
   "metadata": {},
   "source": [
    "## A Brief Introduction to Sets"
   ]
  },
  {
   "cell_type": "markdown",
   "metadata": {},
   "source": [
    "- Sets are a data type in Python.\n",
    "- They follow the rules of mathematical sets that you should already be familiar with.\n",
    "- They are mutable and unordered, and they do not contain repeated items (items are unique).\n",
    "- This means one useful usage of a set is to find all unique items in a list, as we can see below.\n",
    "- Sets also have their own methods, with operations familiar from mathematical sets."
   ]
  },
  {
   "cell_type": "code",
   "execution_count": 37,
   "metadata": {},
   "outputs": [
    {
     "name": "stdout",
     "output_type": "stream",
     "text": [
      "{1, 2, 3, 4, 5, 6, 55}\n"
     ]
    }
   ],
   "source": [
    "# can return unique items in list by casting list to set using set() function\n",
    "long_list = [1,1,1,1,2,3,3,4,5,5,4,4,5,5,6,6,5,55,5,5,5,5]\n",
    "\n",
    "set_of_list = set(long_list)\n",
    "\n",
    "print(set_of_list)"
   ]
  },
  {
   "cell_type": "code",
   "execution_count": 38,
   "metadata": {},
   "outputs": [
    {
     "name": "stdout",
     "output_type": "stream",
     "text": [
      "set()\n",
      "{1}\n",
      "{1, 2}\n"
     ]
    }
   ],
   "source": [
    "# we develop sets by first creating an empty set and then using .add() to add to it\n",
    "set_x = set()\n",
    "\n",
    "print(set_x)\n",
    "\n",
    "set_x.add(1)\n",
    "\n",
    "print(set_x)\n",
    "\n",
    "set_x.add(2)\n",
    "\n",
    "print(set_x)"
   ]
  },
  {
   "cell_type": "code",
   "execution_count": 39,
   "metadata": {},
   "outputs": [
    {
     "name": "stdout",
     "output_type": "stream",
     "text": [
      "{1, 2}\n",
      "{1, 2}\n"
     ]
    }
   ],
   "source": [
    "# if we add 1 again, we see the set does not change, as items in a set are unique\n",
    "print(set_x)\n",
    "\n",
    "set_x.add(1)\n",
    "\n",
    "print(set_x)"
   ]
  },
  {
   "cell_type": "code",
   "execution_count": 40,
   "metadata": {},
   "outputs": [
    {
     "data": {
      "text/plain": [
       "{1, 2, 3, 4, 5, 6, 55}"
      ]
     },
     "execution_count": 40,
     "metadata": {},
     "output_type": "execute_result"
    }
   ],
   "source": [
    "# .union() finds the union (mathematical union) of one set and another\n",
    "set_x.union(set_of_list)"
   ]
  },
  {
   "cell_type": "code",
   "execution_count": 41,
   "metadata": {},
   "outputs": [
    {
     "name": "stdout",
     "output_type": "stream",
     "text": [
      "{1, 2}\n",
      "{1, 2, 3, 4, 5, 6, 55}\n",
      "{1, 2, 3, 4, 5, 6, 55}\n"
     ]
    }
   ],
   "source": [
    "# .update() updates a set with the union of it and another set\n",
    "print(set_x)\n",
    "\n",
    "print(set_of_list)\n",
    "\n",
    "set_x.update(set_of_list)\n",
    "\n",
    "print(set_x)"
   ]
  },
  {
   "cell_type": "code",
   "execution_count": 44,
   "metadata": {},
   "outputs": [
    {
     "data": {
      "text/plain": [
       "{3, 4, 5, 6, 55}"
      ]
     },
     "execution_count": 44,
     "metadata": {},
     "output_type": "execute_result"
    }
   ],
   "source": [
    "# a.difference(b) returns the items in a that are NOT in b\n",
    "set_x = set()\n",
    "set_x.add(1)\n",
    "set_x.add(2)\n",
    "\n",
    "set_of_list.difference(set_x)"
   ]
  },
  {
   "cell_type": "markdown",
   "metadata": {},
   "source": [
    "- We will not cover them further set methods here, but more information is available at:\n",
    "https://docs.python.org/3/library/stdtypes.html#set"
   ]
  },
  {
   "cell_type": "markdown",
   "metadata": {},
   "source": [
    "## Dictionaries"
   ]
  },
  {
   "cell_type": "markdown",
   "metadata": {},
   "source": [
    "- Dictionaries are __unordered__ collections of key:value pairs.\n",
    "- Keys must be strings (can be any immutable type but best practice to use strings).\n",
    "- Values can be any data type, including dictionaries themselves (nesting).\n",
    "- Indexed using keys."
   ]
  },
  {
   "cell_type": "code",
   "execution_count": 10,
   "metadata": {},
   "outputs": [
    {
     "name": "stdout",
     "output_type": "stream",
     "text": [
      "{'k2': 123, 'k1': [0, 1, 2], 'k4': {'insidekey': [100, 200]}}\n"
     ]
    }
   ],
   "source": [
    "# flexibility of data assignment inc. lists and sub-dictionaries\n",
    "d = {'k2':123, 'k1':[0,1,2], 'k4':{'insidekey':[100,200]}}\n",
    "\n",
    "print(d)"
   ]
  },
  {
   "cell_type": "code",
   "execution_count": 122,
   "metadata": {},
   "outputs": [
    {
     "data": {
      "text/plain": [
       "200"
      ]
     },
     "execution_count": 122,
     "metadata": {},
     "output_type": "execute_result"
    }
   ],
   "source": [
    "# indexing happens sequentially\n",
    "d['k4']['insidekey'][1]"
   ]
  },
  {
   "cell_type": "code",
   "execution_count": 123,
   "metadata": {},
   "outputs": [
    {
     "name": "stdout",
     "output_type": "stream",
     "text": [
      "C\n"
     ]
    }
   ],
   "source": [
    "# can stack calls\n",
    "d1 = {'k1':[\"a\", \"b\", \"c\"]}\n",
    "\n",
    "print(d1['k1'][2].upper())"
   ]
  },
  {
   "cell_type": "code",
   "execution_count": 124,
   "metadata": {},
   "outputs": [
    {
     "name": "stdout",
     "output_type": "stream",
     "text": [
      "C\n",
      "C\n"
     ]
    }
   ],
   "source": [
    "# both of these methods give the same result\n",
    "print(d1['k1'][2].upper())\n",
    "\n",
    "x = d1['k1'][2]\n",
    "print(x.upper())"
   ]
  },
  {
   "cell_type": "code",
   "execution_count": 125,
   "metadata": {},
   "outputs": [
    {
     "name": "stdout",
     "output_type": "stream",
     "text": [
      "{'k2': 123, 'k1': 'VALUE', 'k4': {'insidekey': [100, 200]}, 'k7': 'NEW'}\n"
     ]
    }
   ],
   "source": [
    "# add by assigning new pair, reassign\n",
    "d[\"k7\"] = \"NEW\"\n",
    "\n",
    "d[\"k1\"] = \"VALUE\"\n",
    "\n",
    "print(d)"
   ]
  },
  {
   "cell_type": "code",
   "execution_count": 11,
   "metadata": {},
   "outputs": [
    {
     "name": "stdout",
     "output_type": "stream",
     "text": [
      "dict_keys(['k2', 'k1', 'k4'])\n",
      "\n",
      "dict_values([123, [0, 1, 2], {'insidekey': [100, 200]}])\n",
      "\n",
      "dict_items([('k2', 123), ('k1', [0, 1, 2]), ('k4', {'insidekey': [100, 200]})])\n"
     ]
    }
   ],
   "source": [
    "# call all keys/values/pairs by .keys / .values / .items methods, .items returns tuples\n",
    "print(d.keys())\n",
    "print()\n",
    "print(d.values())\n",
    "print()\n",
    "print(d.items())"
   ]
  },
  {
   "cell_type": "code",
   "execution_count": 12,
   "metadata": {},
   "outputs": [],
   "source": [
    "# use in to check if item in iterable\n",
    "d1 = {\"k1\": 10, \"k2\":[1,2,3], \"k3\":345}"
   ]
  },
  {
   "cell_type": "code",
   "execution_count": 13,
   "metadata": {},
   "outputs": [
    {
     "data": {
      "text/plain": [
       "True"
      ]
     },
     "execution_count": 13,
     "metadata": {},
     "output_type": "execute_result"
    }
   ],
   "source": [
    "\"k2\" in d1"
   ]
  },
  {
   "cell_type": "code",
   "execution_count": 14,
   "metadata": {},
   "outputs": [
    {
     "data": {
      "text/plain": [
       "False"
      ]
     },
     "execution_count": 14,
     "metadata": {},
     "output_type": "execute_result"
    }
   ],
   "source": [
    "345 in d1"
   ]
  },
  {
   "cell_type": "code",
   "execution_count": 15,
   "metadata": {},
   "outputs": [
    {
     "data": {
      "text/plain": [
       "True"
      ]
     },
     "execution_count": 15,
     "metadata": {},
     "output_type": "execute_result"
    }
   ],
   "source": [
    "345 in d1.values()"
   ]
  },
  {
   "cell_type": "code",
   "execution_count": 16,
   "metadata": {},
   "outputs": [
    {
     "data": {
      "text/plain": [
       "False"
      ]
     },
     "execution_count": 16,
     "metadata": {},
     "output_type": "execute_result"
    }
   ],
   "source": [
    "345 in d1.keys()"
   ]
  },
  {
   "cell_type": "markdown",
   "metadata": {},
   "source": [
    "## Tuples"
   ]
  },
  {
   "cell_type": "markdown",
   "metadata": {},
   "source": [
    "- Tuples are like lists: flexible data input.\n",
    "- But they are immutable: cannot be changed once created.\n",
    "- Therefore no append/extend/remove/pop methods and no item reassignment for tuples.\n",
    "- Useful for holding values in data that you do not want to be reassigned by accident."
   ]
  },
  {
   "cell_type": "code",
   "execution_count": 128,
   "metadata": {},
   "outputs": [],
   "source": [
    "# immutable but flexible data input\n",
    "t = (1,2,3)\n",
    "t1 = (1, \"two\", 3)\n",
    "t2 = (\"a\", \"a\", \"b\")"
   ]
  },
  {
   "cell_type": "code",
   "execution_count": 129,
   "metadata": {},
   "outputs": [
    {
     "data": {
      "text/plain": [
       "tuple"
      ]
     },
     "execution_count": 129,
     "metadata": {},
     "output_type": "execute_result"
    }
   ],
   "source": [
    "type(t) "
   ]
  },
  {
   "cell_type": "code",
   "execution_count": 130,
   "metadata": {},
   "outputs": [
    {
     "data": {
      "text/plain": [
       "True"
      ]
     },
     "execution_count": 130,
     "metadata": {},
     "output_type": "execute_result"
    }
   ],
   "source": [
    "# can use in operator to check if item is in tuple\n",
    "1 in t1"
   ]
  },
  {
   "cell_type": "code",
   "execution_count": 131,
   "metadata": {},
   "outputs": [
    {
     "ename": "AttributeError",
     "evalue": "'tuple' object has no attribute 'pop'",
     "output_type": "error",
     "traceback": [
      "\u001b[0;31m---------------------------------------------------------------------------\u001b[0m",
      "\u001b[0;31mAttributeError\u001b[0m                            Traceback (most recent call last)",
      "\u001b[0;32m<ipython-input-131-becc35787648>\u001b[0m in \u001b[0;36m<module>\u001b[0;34m\u001b[0m\n\u001b[0;32m----> 1\u001b[0;31m \u001b[0mt1\u001b[0m\u001b[0;34m.\u001b[0m\u001b[0mpop\u001b[0m\u001b[0;34m(\u001b[0m\u001b[0;34m)\u001b[0m\u001b[0;34m\u001b[0m\u001b[0;34m\u001b[0m\u001b[0m\n\u001b[0m",
      "\u001b[0;31mAttributeError\u001b[0m: 'tuple' object has no attribute 'pop'"
     ]
    }
   ],
   "source": [
    "t1.pop()"
   ]
  },
  {
   "cell_type": "code",
   "execution_count": 132,
   "metadata": {},
   "outputs": [
    {
     "ename": "TypeError",
     "evalue": "'tuple' object does not support item assignment",
     "output_type": "error",
     "traceback": [
      "\u001b[0;31m---------------------------------------------------------------------------\u001b[0m",
      "\u001b[0;31mTypeError\u001b[0m                                 Traceback (most recent call last)",
      "\u001b[0;32m<ipython-input-132-3d166a200a44>\u001b[0m in \u001b[0;36m<module>\u001b[0;34m\u001b[0m\n\u001b[0;32m----> 1\u001b[0;31m \u001b[0mt1\u001b[0m\u001b[0;34m[\u001b[0m\u001b[0;36m1\u001b[0m\u001b[0;34m]\u001b[0m \u001b[0;34m=\u001b[0m \u001b[0;34m\"ten\"\u001b[0m\u001b[0;34m\u001b[0m\u001b[0;34m\u001b[0m\u001b[0m\n\u001b[0m",
      "\u001b[0;31mTypeError\u001b[0m: 'tuple' object does not support item assignment"
     ]
    }
   ],
   "source": [
    "t1[1] = \"ten\""
   ]
  },
  {
   "cell_type": "code",
   "execution_count": 133,
   "metadata": {},
   "outputs": [
    {
     "name": "stdout",
     "output_type": "stream",
     "text": [
      "The length of the tuple is 3\n"
     ]
    }
   ],
   "source": [
    "# check length with len() function\n",
    "len(t)\n",
    "print(\"The length of the tuple is {x}\".format(x=len(t)))"
   ]
  },
  {
   "cell_type": "code",
   "execution_count": 134,
   "metadata": {},
   "outputs": [
    {
     "name": "stdout",
     "output_type": "stream",
     "text": [
      "a occurs 2 times in the tuple\n"
     ]
    }
   ],
   "source": [
    "# count instances using .count() method\n",
    "t2.count(\"a\")\n",
    "print(\"a occurs {x} times in the tuple\".format(x=t2.count(\"a\")))"
   ]
  },
  {
   "cell_type": "code",
   "execution_count": 135,
   "metadata": {},
   "outputs": [
    {
     "name": "stdout",
     "output_type": "stream",
     "text": [
      "a occurs first at index 0 in the tuple\n"
     ]
    }
   ],
   "source": [
    "# find first index using .index() method\n",
    "t2.index(\"a\")\n",
    "print(\"a occurs first at index {x} in the tuple\".format(x=t2.index(\"a\")))"
   ]
  },
  {
   "cell_type": "markdown",
   "metadata": {},
   "source": [
    "### Tuple Packing and Unpacking"
   ]
  },
  {
   "cell_type": "markdown",
   "metadata": {},
   "source": [
    "- One of the most powerful aspects of tuples is a technique called tuple unpacking.\n",
    "- This allows us to assign variables using commas from a single tuple in order.\n",
    "- The syntax works as below, although the brackets can be omitted, unless required to be clear."
   ]
  },
  {
   "cell_type": "markdown",
   "metadata": {},
   "source": [
    "Python here 'unpacks' the tuple automatically and picks out the values and assigns them to the comma-separated variables:"
   ]
  },
  {
   "cell_type": "code",
   "execution_count": 17,
   "metadata": {},
   "outputs": [
    {
     "name": "stdout",
     "output_type": "stream",
     "text": [
      "1\n",
      "2\n",
      "3\n"
     ]
    }
   ],
   "source": [
    "a, b, c = (1, 2, 3)\n",
    "\n",
    "print(a)\n",
    "print(b)\n",
    "print(c)"
   ]
  },
  {
   "cell_type": "markdown",
   "metadata": {},
   "source": [
    "We can also assign a tuple to a variable and perform tuple unpacking on the variable:"
   ]
  },
  {
   "cell_type": "code",
   "execution_count": 7,
   "metadata": {},
   "outputs": [
    {
     "name": "stdout",
     "output_type": "stream",
     "text": [
      "1\n",
      "2\n",
      "3\n"
     ]
    }
   ],
   "source": [
    "t1 = (1,2,3)\n",
    "\n",
    "a, b, c = t1\n",
    "\n",
    "print(a)\n",
    "print(b)\n",
    "print(c)"
   ]
  },
  {
   "cell_type": "markdown",
   "metadata": {},
   "source": [
    "Here, brackets are implied, Python performs tuple unpacking operation in same way 'under the hood'. <br>\n",
    "This comma notation is useful shorthand for assigning multiple variables:"
   ]
  },
  {
   "cell_type": "code",
   "execution_count": 137,
   "metadata": {},
   "outputs": [
    {
     "name": "stdout",
     "output_type": "stream",
     "text": [
      "1\n",
      "2\n",
      "3\n"
     ]
    }
   ],
   "source": [
    "a, b, c = 1, 2, 3\n",
    "\n",
    "print(a)\n",
    "print(b)\n",
    "print(c)"
   ]
  },
  {
   "cell_type": "markdown",
   "metadata": {},
   "source": [
    "Tuples can also be packed in the same way. Again, useful for multiple variable assignment:"
   ]
  },
  {
   "cell_type": "code",
   "execution_count": 8,
   "metadata": {},
   "outputs": [
    {
     "name": "stdout",
     "output_type": "stream",
     "text": [
      "1\n",
      "2\n",
      "3\n",
      "(1, 2, 3)\n"
     ]
    }
   ],
   "source": [
    "print(a)\n",
    "print(b)\n",
    "print(c)\n",
    "\n",
    "t1 = a, b, c\n",
    "\n",
    "print(t1)"
   ]
  },
  {
   "cell_type": "markdown",
   "metadata": {},
   "source": [
    "## Booleans and Comparison Operators"
   ]
  },
  {
   "cell_type": "markdown",
   "metadata": {},
   "source": [
    "Booleans in Python function as they do in maths. <br>\n",
    "Can use: \n",
    "- (<) less than\n",
    "- (>) more than\n",
    "- (<=) less than or equal to\n",
    "- (>=) more than or equal to\n",
    "- (==) equal to (single = is assignment)\n",
    "- (!=) not equal\n",
    "\n",
    "to evaluate equality/inequality.\n",
    "\n",
    "Use keywords to chain/modify boolean operators:\n",
    "- and\n",
    "- or\n",
    "- not"
   ]
  },
  {
   "cell_type": "code",
   "execution_count": 138,
   "metadata": {},
   "outputs": [
    {
     "data": {
      "text/plain": [
       "True"
      ]
     },
     "execution_count": 138,
     "metadata": {},
     "output_type": "execute_result"
    }
   ],
   "source": [
    "1 < 2"
   ]
  },
  {
   "cell_type": "code",
   "execution_count": 139,
   "metadata": {},
   "outputs": [
    {
     "data": {
      "text/plain": [
       "False"
      ]
     },
     "execution_count": 139,
     "metadata": {},
     "output_type": "execute_result"
    }
   ],
   "source": [
    "1 >= 2"
   ]
  },
  {
   "cell_type": "code",
   "execution_count": 140,
   "metadata": {},
   "outputs": [
    {
     "data": {
      "text/plain": [
       "True"
      ]
     },
     "execution_count": 140,
     "metadata": {},
     "output_type": "execute_result"
    }
   ],
   "source": [
    "# and/or for boolean comparison chaining\n",
    "1 < 2 and 10 < 20"
   ]
  },
  {
   "cell_type": "code",
   "execution_count": 141,
   "metadata": {},
   "outputs": [
    {
     "data": {
      "text/plain": [
       "False"
      ]
     },
     "execution_count": 141,
     "metadata": {},
     "output_type": "execute_result"
    }
   ],
   "source": [
    "True and False"
   ]
  },
  {
   "cell_type": "code",
   "execution_count": 142,
   "metadata": {},
   "outputs": [
    {
     "data": {
      "text/plain": [
       "True"
      ]
     },
     "execution_count": 142,
     "metadata": {},
     "output_type": "execute_result"
    }
   ],
   "source": [
    "# and/or for boolean comparison chaining\n",
    "25 > 37 or 55 < 100"
   ]
  },
  {
   "cell_type": "code",
   "execution_count": 143,
   "metadata": {},
   "outputs": [
    {
     "data": {
      "text/plain": [
       "True"
      ]
     },
     "execution_count": 143,
     "metadata": {},
     "output_type": "execute_result"
    }
   ],
   "source": [
    "True or False"
   ]
  },
  {
   "cell_type": "code",
   "execution_count": 144,
   "metadata": {},
   "outputs": [
    {
     "data": {
      "text/plain": [
       "False"
      ]
     },
     "execution_count": 144,
     "metadata": {},
     "output_type": "execute_result"
    }
   ],
   "source": [
    "# use not to return opposite boolean\n",
    "not 100 > 1"
   ]
  },
  {
   "cell_type": "code",
   "execution_count": 28,
   "metadata": {},
   "outputs": [
    {
     "name": "stdout",
     "output_type": "stream",
     "text": [
      "False\n",
      "True\n",
      "True\n"
     ]
    }
   ],
   "source": [
    "# use in keyword to check if item is in iterable (also works for strings)\n",
    "print(\"x\" in [1,2,3])\n",
    "\n",
    "print(\"x\" in ['x','y','z'])\n",
    "\n",
    "print(\"a\" in \"a world\")"
   ]
  },
  {
   "cell_type": "code",
   "execution_count": null,
   "metadata": {},
   "outputs": [],
   "source": []
  },
  {
   "cell_type": "markdown",
   "metadata": {},
   "source": [
    "## Data Types and Structures Exercises"
   ]
  },
  {
   "cell_type": "markdown",
   "metadata": {},
   "source": [
    "### Question 1"
   ]
  },
  {
   "cell_type": "markdown",
   "metadata": {},
   "source": [
    "Describe the key differences between a list, a dictionary and a tuple."
   ]
  },
  {
   "cell_type": "markdown",
   "metadata": {},
   "source": [
    "Answer here"
   ]
  },
  {
   "cell_type": "markdown",
   "metadata": {},
   "source": [
    "### Question 2"
   ]
  },
  {
   "cell_type": "markdown",
   "metadata": {},
   "source": [
    "What is mutability?"
   ]
  },
  {
   "cell_type": "markdown",
   "metadata": {},
   "source": [
    "Answer here"
   ]
  },
  {
   "cell_type": "markdown",
   "metadata": {},
   "source": [
    "### Question 3"
   ]
  },
  {
   "cell_type": "markdown",
   "metadata": {},
   "source": [
    "Print the string python from this dictionary:"
   ]
  },
  {
   "cell_type": "code",
   "execution_count": 18,
   "metadata": {},
   "outputs": [],
   "source": [
    "d = {'start here':1,'k1':[1,2,3,{'k2':[1,2,{'k3':['keep going',{'further':[1,2,3,4,[{'k4':'python'}]]}]}]}]}"
   ]
  },
  {
   "cell_type": "code",
   "execution_count": 21,
   "metadata": {},
   "outputs": [
    {
     "name": "stdout",
     "output_type": "stream",
     "text": [
      "python\n"
     ]
    }
   ],
   "source": [
    "# CODE HERE"
   ]
  },
  {
   "cell_type": "markdown",
   "metadata": {},
   "source": [
    "### Question 4"
   ]
  },
  {
   "cell_type": "markdown",
   "metadata": {},
   "source": [
    "Create a nested dictionary called shop with sub-dictionaries called 'prices' and 'pack_sizes'. <br>\n",
    "'prices' should contain items as keys and prices as values. <br>\n",
    "'pack_sizes' should contain items as keys and pack sizes as values. <br>\n",
    "\n",
    "- Tomatoes cost 87p for a pack of 6\n",
    "- 500g sugar costs £1.09\n",
    "- Washing sponges cost 29p for a pack of 10\n",
    "- Juice is £1.89 per 1.5l bottle\n",
    "- Foil is £1.29 per 30m roll\n",
    "\n",
    "Use the same keys for both sub-dictionaries, e.g. 'tomato':0.87 and 'tomato':'Pack of 6'. <br>\n",
    "Use the provided list as the values for pack_sizes (copy-paste the strings):"
   ]
  },
  {
   "cell_type": "code",
   "execution_count": 47,
   "metadata": {},
   "outputs": [],
   "source": [
    "[\"Pack of 6\", \"500g\", \"Pack of 10\", \"1.5l bottle\", \"30m roll\"]\n",
    "\n",
    "shop = {}"
   ]
  },
  {
   "cell_type": "code",
   "execution_count": 8,
   "metadata": {},
   "outputs": [
    {
     "data": {
      "text/plain": [
       "{'prices': {'tomato': 0.87,\n",
       "  'sugar': 1.09,\n",
       "  'washing_sponges': 0.29,\n",
       "  'juice': 1.89,\n",
       "  'foil': 1.29},\n",
       " 'pack_sizes': {'tomato': 'Pack of 6',\n",
       "  'sugar': '500g',\n",
       "  'washing_sponges': 'Pack of 10',\n",
       "  'juice': '1.5l bottle',\n",
       "  'foil': '30m roll'}}"
      ]
     },
     "execution_count": 8,
     "metadata": {},
     "output_type": "execute_result"
    }
   ],
   "source": [
    "shop"
   ]
  },
  {
   "cell_type": "markdown",
   "metadata": {},
   "source": [
    "### Question 5"
   ]
  },
  {
   "cell_type": "markdown",
   "metadata": {},
   "source": [
    "Using the nested dictionary above, find the price of the following shopping list:\n",
    "\n",
    "- 18 tomatoes\n",
    "- 2 packs of washing sponges\n",
    "- 4.5 litres of juice\n",
    "- 4 rolls of foil\n",
    "- 2kg sugar\n",
    "\n",
    "Do it in this (rather tedious) order:\n",
    "\n",
    "Create 4 lists using indexing:\n",
    "- The first containing the cost per pack of each item called 'pack_cost', indexing the 'prices' dictionary.\n",
    "- The second containing the pack size of each item called 'pack', indexing the 'pack_sizes' dictionary.\n",
    "- The third containing the quantities of each item called 'quant' (created for you).\n",
    "- The fourth containing cost per pack multiplied by quantity for each item called 'tsp', indexing 'unit_cost' and 'pack'.\n",
    "\n",
    "Print your answer as a nested list of 4 lists called order.\n",
    "\n",
    "Using sum, find the subtotal (exc. VAT) as a variable called order_subtotal.\n",
    "\n",
    "Find the total (inc. VAT) as a variable called order_total (VAT is 20%).\n",
    "\n",
    "(This is a very tedious way of doing this, but it will show you why for loops are super useful later on)"
   ]
  },
  {
   "cell_type": "code",
   "execution_count": 51,
   "metadata": {
    "scrolled": true
   },
   "outputs": [],
   "source": [
    "unit_cost = []\n",
    "\n",
    "pack = []\n",
    "\n",
    "quant = [3,4,2,3,4]\n",
    "\n",
    "tsp = []\n",
    "\n",
    "order = []\n",
    "\n",
    "order_subtotal\n",
    "\n",
    "order_total"
   ]
  },
  {
   "cell_type": "code",
   "execution_count": 52,
   "metadata": {},
   "outputs": [
    {
     "name": "stdout",
     "output_type": "stream",
     "text": [
      "[[0.87, 1.09, 0.29, 1.89, 1.29], ['Pack of 6', '500g', 'Pack of 10', '1.5l bottle', '30m roll'], [3, 4, 2, 3, 4], [2.61, 4.36, 0.58, 5.67, 5.16]]\n"
     ]
    }
   ],
   "source": [
    "print(order)"
   ]
  },
  {
   "cell_type": "code",
   "execution_count": 53,
   "metadata": {},
   "outputs": [
    {
     "name": "stdout",
     "output_type": "stream",
     "text": [
      "The subtotal is £18.38.\n"
     ]
    }
   ],
   "source": [
    "print(\"The subtotal is £{:4.2f}.\".format(order_subtotal))"
   ]
  },
  {
   "cell_type": "code",
   "execution_count": 54,
   "metadata": {},
   "outputs": [
    {
     "name": "stdout",
     "output_type": "stream",
     "text": [
      "The total is £22.06.\n"
     ]
    }
   ],
   "source": [
    "print(\"The total is £{:4.2f}.\".format(order_total))"
   ]
  },
  {
   "cell_type": "code",
   "execution_count": null,
   "metadata": {},
   "outputs": [],
   "source": []
  },
  {
   "cell_type": "markdown",
   "metadata": {},
   "source": [
    "## Summary\n",
    "We now understand:\n",
    "- The nature of lists, dictionaries and tuples.\n",
    "- The basic concept of mutability.\n",
    "- The basic concept of tuple unpacking.\n",
    "- The nature of booleans and how to use them.\n",
    "<br><br>\n",
    "\n",
    "We now know:\n",
    "- How to index and slice lists.\n",
    "- List functions and methods including len(), .append(), .extend() etc.\n",
    "- How to use a set to find the unique values in a list.\n",
    "- How to index a dictionary.\n",
    "- Dictionary methods including .keys(), .values(), .items().\n",
    "- Tuple methods including .count() and .index().\n",
    "- How to use booleans and logical operators.\n",
    "<br><br>\n",
    "\n",
    "Please use this notebook as a reference, and refer to the links below for more information.\n",
    "\n",
    "## Further reading\n",
    "- List methods: https://docs.python.org/3/tutorial/datastructures.html\n",
    "- Dictionary methods: https://docs.python.org/3/library/stdtypes.html#typesmapping\n",
    "- Built-in types: https://docs.python.org/3/library/stdtypes.html\n",
    "- Sets: https://docs.python.org/3/library/stdtypes.html#set"
   ]
  },
  {
   "cell_type": "code",
   "execution_count": null,
   "metadata": {},
   "outputs": [],
   "source": []
  }
 ],
 "metadata": {
  "kernelspec": {
   "display_name": "Python 3",
   "language": "python",
   "name": "python3"
  },
  "language_info": {
   "codemirror_mode": {
    "name": "ipython",
    "version": 3
   },
   "file_extension": ".py",
   "mimetype": "text/x-python",
   "name": "python",
   "nbconvert_exporter": "python",
   "pygments_lexer": "ipython3",
   "version": "3.7.6"
  }
 },
 "nbformat": 4,
 "nbformat_minor": 2
}
