{
 "cells": [
  {
   "cell_type": "markdown",
   "metadata": {},
   "source": [
    "# Python Prelude 4: For Loops"
   ]
  },
  {
   "cell_type": "markdown",
   "metadata": {},
   "source": [
    "## Learning objectives\n",
    "- Understand the concept of definite iteration.\n",
    "- Know how to use a basic for loop.\n",
    "- Know how to use a for loop with the range() function.\n",
    "- Know how to use range(len(iterable)) to iterate on index.\n",
    "- Know how to use tuple unpacking in iteration.\n",
    "- Know how to iterate through dictionaries.\n",
    "- Know how to use conditional statements inside for loops.\n",
    "- Know how to use pass, break and continue keywords.\n",
    "- Know how to create and iterate through zip and enumerate objects.\n",
    "- Know how to write list comprehensions.\n",
    "- Know how to use conditionals inside list comprehensions."
   ]
  },
  {
   "cell_type": "markdown",
   "metadata": {},
   "source": [
    "# Control Flow"
   ]
  },
  {
   "cell_type": "markdown",
   "metadata": {},
   "source": [
    "## Iteration"
   ]
  },
  {
   "cell_type": "markdown",
   "metadata": {},
   "source": [
    "- Iterable: data structure capable of returning its elements one at a time e.g. list, tuple, string, dictionary(d.keys() returns a list).\n",
    "- Iteration: performing the same operation repeatedly (often over each element of an iterable).\n",
    "- e.g. multiplying each element in a list by 2, or taking index 0 of each item in a list of strings."
   ]
  },
  {
   "cell_type": "markdown",
   "metadata": {},
   "source": [
    "## For Loops"
   ]
  },
  {
   "cell_type": "markdown",
   "metadata": {},
   "source": [
    "- Looping is an example of iteration, where you perform the same operation repeatedly, until some condition is fulfilled.\n",
    "\n",
    "- For loops perform some operation FOR each element in an iterable (each character in a string or each item in a list etc) until there are no more elements left in the iterable.\n",
    "- This is called definite iteration: where the number of iterations are known.\n",
    "- This is an example of DRY coding (Don't Repeat Yourself), as a single for loop does numerous operations in one go."
   ]
  },
  {
   "cell_type": "markdown",
   "metadata": {},
   "source": [
    "### Basic Syntax"
   ]
  },
  {
   "cell_type": "code",
   "execution_count": 95,
   "metadata": {},
   "outputs": [],
   "source": [
    "# for i in iterable:\n",
    "#     do_something\n",
    "#     do_something_to_i"
   ]
  },
  {
   "cell_type": "markdown",
   "metadata": {},
   "source": [
    "#### We can break the syntax down as follows:\n",
    "- __i__ is the counter variable here, it can be anything as long as it is consistent: best practice is to use naming such as __city in cities__, __item in items__ etc where __cities__ or __items__ is the __iterable name__, or failing that, __i__, for the purpose of readability.\n",
    "\n",
    "- __i__ refers to each element in the iterable in a given iteration, and so we can use __i__ in the do_something block.\n",
    "\n",
    "- __in__ is the __keyword in__, indicating reference to the following iterable.\n",
    "\n",
    "- __iterable__ is the iterable over which we wish to perform the operation, so the list name for example.\n",
    "\n",
    "- The __colon__ indicates control flow and signals an indent, completing the set phrase.\n",
    "\n",
    "- The __do_something__ block is the operation to perform on each element, and so often i is used in this code block, although it does not have to be."
   ]
  },
  {
   "cell_type": "markdown",
   "metadata": {},
   "source": [
    "### Example"
   ]
  },
  {
   "cell_type": "code",
   "execution_count": 1,
   "metadata": {},
   "outputs": [
    {
     "name": "stdout",
     "output_type": "stream",
     "text": [
      "thing\n",
      "thing\n",
      "thing\n",
      "thing\n"
     ]
    }
   ],
   "source": [
    "items = [\"hat\", \"boots\", \"jacket\", \"gloves\"]\n",
    "\n",
    "for item in items:\n",
    "    print(\"thing\")"
   ]
  },
  {
   "cell_type": "code",
   "execution_count": 2,
   "metadata": {},
   "outputs": [
    {
     "name": "stdout",
     "output_type": "stream",
     "text": [
      "hat\n",
      "boots\n",
      "jacket\n",
      "gloves\n"
     ]
    }
   ],
   "source": [
    "items = [\"hat\", \"boots\", \"jacket\", \"gloves\"]\n",
    "\n",
    "for item in items:\n",
    "    print(item)"
   ]
  },
  {
   "cell_type": "markdown",
   "metadata": {},
   "source": [
    "### Using the range() function"
   ]
  },
  {
   "cell_type": "code",
   "execution_count": 98,
   "metadata": {},
   "outputs": [],
   "source": [
    "# for i in range(start,stop,step):\n",
    "#     do_something\n",
    "#     do_something_to_i"
   ]
  },
  {
   "cell_type": "markdown",
   "metadata": {},
   "source": [
    "- Here, we perform an operation using the range() function, and so perform an operation for all the numbers in the given range.\n",
    "\n",
    "- range() is a generator and so returns a range object, not a list, but it is still iterable.\n",
    "\n",
    "- To produce a list we must use list(range()).\n",
    "\n",
    "- range() takes 3 arguments, start, stop and step.\n",
    "\n",
    "- If we specify __1 argument__, e.g. range(3), range defaults to start = 0 and step = 1, and takes the argument as the ending number+1, so range(3) contains 0,1,2.\n",
    "\n",
    "- If we specify __2 arguments__, e.g. range(5,20), the first is start number and second is stop number+1.\n",
    "\n",
    "- If we specify __3 arguments__, the 3rd is the step(increment), so e.g. range(5,10,2) contains 5,7,9."
   ]
  },
  {
   "cell_type": "markdown",
   "metadata": {},
   "source": [
    "### Example"
   ]
  },
  {
   "cell_type": "code",
   "execution_count": 13,
   "metadata": {},
   "outputs": [
    {
     "name": "stdout",
     "output_type": "stream",
     "text": [
      "25\n",
      "49\n",
      "81\n",
      "121\n",
      "169\n",
      "225\n",
      "289\n",
      "361\n"
     ]
    }
   ],
   "source": [
    "for i in range(5,20,2):\n",
    "    print(i**2)"
   ]
  },
  {
   "cell_type": "code",
   "execution_count": 3,
   "metadata": {},
   "outputs": [
    {
     "name": "stdout",
     "output_type": "stream",
     "text": [
      "[0, 1, 2]\n"
     ]
    }
   ],
   "source": [
    "print(list(range(3)))"
   ]
  },
  {
   "cell_type": "code",
   "execution_count": 4,
   "metadata": {},
   "outputs": [
    {
     "name": "stdout",
     "output_type": "stream",
     "text": [
      "[5, 6, 7, 8, 9, 10, 11, 12, 13, 14, 15, 16, 17, 18, 19]\n"
     ]
    }
   ],
   "source": [
    "print(list(range(5,20)))"
   ]
  },
  {
   "cell_type": "code",
   "execution_count": 5,
   "metadata": {},
   "outputs": [
    {
     "name": "stdout",
     "output_type": "stream",
     "text": [
      "[5, 7, 9]\n"
     ]
    }
   ],
   "source": [
    "print(list(range(5,10,2)))"
   ]
  },
  {
   "cell_type": "markdown",
   "metadata": {},
   "source": [
    "### Using range(len(iterable))"
   ]
  },
  {
   "cell_type": "code",
   "execution_count": 100,
   "metadata": {},
   "outputs": [],
   "source": [
    "# for i in range(len(iterable)):\n",
    "#     do_something_to_iterable[i]"
   ]
  },
  {
   "cell_type": "markdown",
   "metadata": {},
   "source": [
    "- Here, i is each number in the index of a list, and we can index the list in the code block in order to modify each element.\n",
    "- Generally this is to modify lists but can have other use cases."
   ]
  },
  {
   "cell_type": "markdown",
   "metadata": {},
   "source": [
    "### Example"
   ]
  },
  {
   "cell_type": "code",
   "execution_count": 6,
   "metadata": {},
   "outputs": [
    {
     "name": "stdout",
     "output_type": "stream",
     "text": [
      "['HAT', 'BOOTS', 'JACKET', 'GLOVES']\n"
     ]
    }
   ],
   "source": [
    "items = [\"hat\", \"boots\", \"jacket\", \"gloves\"]\n",
    "\n",
    "for i in range(len(items)):\n",
    "    items[i] = items[i].upper()\n",
    "\n",
    "print(items)"
   ]
  },
  {
   "cell_type": "markdown",
   "metadata": {},
   "source": [
    "### Tuple Packing and Unpacking"
   ]
  },
  {
   "cell_type": "markdown",
   "metadata": {},
   "source": [
    "Some quick revision from the data types lecture:\n",
    "- One of the most powerful aspects of tuples is a technique called tuple unpacking.\n",
    "- Using the comma syntax below, Python automatically picks out elements from a tuple and assigns them to variables.\n",
    "- We can leverage this with for loops, especially when iterating through dictionaries."
   ]
  },
  {
   "cell_type": "code",
   "execution_count": 3,
   "metadata": {},
   "outputs": [
    {
     "name": "stdout",
     "output_type": "stream",
     "text": [
      "1\n",
      "2\n"
     ]
    }
   ],
   "source": [
    "# Python here 'unpacks' the tuple automatically and picks out the values and assigns them to the comma-separated\n",
    "# variables\n",
    "a, b = (1, 2)\n",
    "\n",
    "print(a)\n",
    "print(b)"
   ]
  },
  {
   "cell_type": "markdown",
   "metadata": {},
   "source": [
    "## For Loops with Dictionaries"
   ]
  },
  {
   "cell_type": "markdown",
   "metadata": {},
   "source": [
    "This is possible through 2 methods:\n",
    "1. We can iterate through d.keys(), as it returns a list.\n",
    "2. We can use tuple unpacking to iterate through d.items(), as it returns a list of paired tuples.\n",
    "\n",
    "The second method gives us the freedom to operate both keys and items in a more readable format."
   ]
  },
  {
   "cell_type": "markdown",
   "metadata": {},
   "source": [
    "### Examples"
   ]
  },
  {
   "cell_type": "markdown",
   "metadata": {},
   "source": [
    "#### Method 1"
   ]
  },
  {
   "cell_type": "code",
   "execution_count": 6,
   "metadata": {},
   "outputs": [
    {
     "data": {
      "text/plain": [
       "dict_keys(['tomato', 'sugar', 'sponges', 'juice', 'foil'])"
      ]
     },
     "execution_count": 6,
     "metadata": {},
     "output_type": "execute_result"
    }
   ],
   "source": [
    "# we see here the .keys() method returns a list\n",
    "prices = {\"tomato\":0.87, \"sugar\":1.09, \"sponges\":0.29, \"juice\":1.89, \"foil\":1.29}\n",
    "\n",
    "prices.keys()"
   ]
  },
  {
   "cell_type": "code",
   "execution_count": 4,
   "metadata": {},
   "outputs": [
    {
     "name": "stdout",
     "output_type": "stream",
     "text": [
      "['tomato', 'sugar', 'sponges', 'juice', 'foil']\n",
      "[0.87, 1.09, 0.29, 1.89, 1.29]\n"
     ]
    }
   ],
   "source": [
    "# here we are picking out keys and items from a dictionary and adding them to a list\n",
    "\n",
    "# initialise empty lists\n",
    "code_list = []\n",
    "price_list = []\n",
    "\n",
    "for key in prices.keys():\n",
    "    \n",
    "    # append the key itself to code_list\n",
    "    code_list.append(key)\n",
    "    \n",
    "    # use the key to pick out the value and append that to price_list\n",
    "    price_list.append(prices[key])\n",
    "    \n",
    "print(code_list)\n",
    "print(price_list)"
   ]
  },
  {
   "cell_type": "markdown",
   "metadata": {},
   "source": [
    "#### Method 2"
   ]
  },
  {
   "cell_type": "code",
   "execution_count": 7,
   "metadata": {},
   "outputs": [
    {
     "data": {
      "text/plain": [
       "dict_items([('tomato', 0.87), ('sugar', 1.09), ('sponges', 0.29), ('juice', 1.89), ('foil', 1.29)])"
      ]
     },
     "execution_count": 7,
     "metadata": {},
     "output_type": "execute_result"
    }
   ],
   "source": [
    "# we can see here that the .items() method returns a list of paired tuples\n",
    "prices.items()"
   ]
  },
  {
   "cell_type": "code",
   "execution_count": 8,
   "metadata": {},
   "outputs": [
    {
     "name": "stdout",
     "output_type": "stream",
     "text": [
      "['tomato', 'sugar', 'sponges', 'juice', 'foil']\n",
      "[0.87, 1.09, 0.29, 1.89, 1.29]\n"
     ]
    }
   ],
   "source": [
    "# we do the same operation but using tuple unpacking on d.keys this time\n",
    "\n",
    "code_list = []\n",
    "price_list = []\n",
    "\n",
    "for key, value in prices.items():\n",
    "    \n",
    "    # this line is the same as above\n",
    "    code_list.append(key)\n",
    "    \n",
    "    # here we access the value too, and directly append that to price_list\n",
    "    price_list.append(value)\n",
    "    \n",
    "print(code_list)\n",
    "print(price_list)"
   ]
  },
  {
   "cell_type": "markdown",
   "metadata": {},
   "source": [
    "We can also perform other operations using tuple unpacking:"
   ]
  },
  {
   "cell_type": "code",
   "execution_count": 11,
   "metadata": {},
   "outputs": [
    {
     "name": "stdout",
     "output_type": "stream",
     "text": [
      "Item Code: tomato\n",
      "Price: £0.87\n",
      "\n",
      "Item Code: sugar\n",
      "Price: £1.09\n",
      "\n",
      "Item Code: sponges\n",
      "Price: £0.29\n",
      "\n",
      "Item Code: juice\n",
      "Price: £1.89\n",
      "\n",
      "Item Code: foil\n",
      "Price: £1.29\n",
      "\n"
     ]
    }
   ],
   "source": [
    "prices = {\"tomato\":0.87, \"sugar\":1.09, \"sponges\":0.29, \"juice\":1.89, \"foil\":1.29}\n",
    "\n",
    "for key, value in prices.items():\n",
    "    print(\"Item Code: {}\\nPrice: £{}\\n\".format(key,value))"
   ]
  },
  {
   "cell_type": "markdown",
   "metadata": {},
   "source": [
    "## If Statements within For Loops\n",
    "- We can use control flow within for loops to perform differing operations depending on conditions."
   ]
  },
  {
   "cell_type": "markdown",
   "metadata": {},
   "source": [
    "### Example\n",
    "- Here we use the example of a BMI calculator to demonstrate the combination of a few concepts.\n",
    "- Heights are in metres and weights in kilograms for ease of calculation."
   ]
  },
  {
   "cell_type": "code",
   "execution_count": 11,
   "metadata": {},
   "outputs": [
    {
     "name": "stdout",
     "output_type": "stream",
     "text": [
      "This is the list of BMIs: [25.381468541909282, 25.390218522372525, 30.905885854261584, 23.938989774631512, 32.488628979857054, 18.80920625149619]\n",
      "\n",
      "You're in the overweight range. Your BMI is 25.4.\n",
      "You're in the overweight range. Your BMI is 25.4.\n",
      "You're in the obese range. Your BMI is 30.9.\n",
      "You're in the healthy weight range. Your BMI is 23.9.\n",
      "You're in the obese range. Your BMI is 32.5.\n",
      "You're in the healthy weight range. Your BMI is 18.8.\n"
     ]
    }
   ],
   "source": [
    "# we encode a list of heights and weights as a list of tuples\n",
    "heights_weights = [(1.83, 85),(1.55, 61),(2.09, 135),(1.71, 70),(1.71, 95),(1.71, 55)]\n",
    "\n",
    "\n",
    "# we set bmis as an empty list to append bmi values to\n",
    "bmis = []\n",
    "\n",
    "\n",
    "# we use tuple unpacking to add bmi values to bmis\n",
    "for height, weight in heights_weights:\n",
    "    bmis.append(weight/height**2)\n",
    "\n",
    "\n",
    "# we print bmis here to show the intermediate list (ordinarily we would not do this)\n",
    "print(\"This is the list of BMIs: {}\\n\".format(bmis))\n",
    "\n",
    "\n",
    "# we loop over bmi list to assign the values to the correct message\n",
    "for bmi in bmis:\n",
    "    if bmi < 18.5:\n",
    "        print(\"You're in the underweight range. Your BMI is {:3.1f}.\".format(bmi))\n",
    "    elif bmi <= 24.9:\n",
    "        print(\"You're in the healthy weight range. Your BMI is {:3.1f}.\".format(bmi))\n",
    "    elif bmi <= 29.9:\n",
    "        print(\"You're in the overweight range. Your BMI is {:3.1f}.\".format(bmi))\n",
    "    elif bmi <= 39.9:\n",
    "        print(\"You're in the obese range. Your BMI is {:3.1f}.\".format(bmi))"
   ]
  },
  {
   "cell_type": "markdown",
   "metadata": {},
   "source": [
    "We can now do this in a single for loop:"
   ]
  },
  {
   "cell_type": "code",
   "execution_count": 3,
   "metadata": {},
   "outputs": [
    {
     "name": "stdout",
     "output_type": "stream",
     "text": [
      "You're in the overweight range. Your BMI is 25.4\n",
      "You're in the overweight range. Your BMI is 25.4\n",
      "You're in the obese range. Your BMI is 30.9\n",
      "You're in the healthy weight range. Your BMI is 23.9\n",
      "You're in the obese range. Your BMI is 32.5\n",
      "You're in the healthy weight range. Your BMI is 18.8\n"
     ]
    }
   ],
   "source": [
    "heights_weights = [(1.83, 85),(1.55, 61),(2.09, 135),(1.71, 70),(1.71, 95),(1.71, 55)]\n",
    "\n",
    "for height, weight in heights_weights:\n",
    "    \n",
    "    # here we calculate bmi within the for loop using the paired tuple values before passing the bmi value\n",
    "    # into the subsequent if statements\n",
    "    bmi = weight/height**2\n",
    "\n",
    "    if bmi < 18.5:\n",
    "        print(\"You're in the underweight range. Your BMI is {:3.1f}\".format(bmi))\n",
    "    elif bmi <= 24.9:\n",
    "        print(\"You're in the healthy weight range. Your BMI is {:3.1f}\".format(bmi))\n",
    "    elif bmi <= 29.9:\n",
    "        print(\"You're in the overweight range. Your BMI is {:3.1f}\".format(bmi))\n",
    "    elif bmi <= 39.9:\n",
    "        print(\"You're in the obese range. Your BMI is {:3.1f}\".format(bmi))"
   ]
  },
  {
   "cell_type": "code",
   "execution_count": null,
   "metadata": {},
   "outputs": [],
   "source": []
  },
  {
   "cell_type": "markdown",
   "metadata": {},
   "source": [
    "## Exercise 1"
   ]
  },
  {
   "cell_type": "markdown",
   "metadata": {},
   "source": [
    "Write a for loop to count how many even and odd numbers between 1 and 100."
   ]
  },
  {
   "cell_type": "code",
   "execution_count": 1,
   "metadata": {},
   "outputs": [
    {
     "name": "stdout",
     "output_type": "stream",
     "text": [
      "Number of Even Numbers: 51\n",
      "Number of Odd Numbers: 50\n"
     ]
    }
   ],
   "source": [
    "count_odd = 0\n",
    "count_even = 0\n",
    "\n",
    "# CODE HERE\n",
    "\n",
    "print(\"Number of Even Numbers: {}\".format(count_even))\n",
    "print(\"Number of Odd Numbers: {}\".format(count_odd))"
   ]
  },
  {
   "cell_type": "code",
   "execution_count": null,
   "metadata": {},
   "outputs": [],
   "source": []
  },
  {
   "cell_type": "markdown",
   "metadata": {},
   "source": [
    "## Pass, Break and Continue Keywords"
   ]
  },
  {
   "cell_type": "markdown",
   "metadata": {},
   "source": [
    "- The pass keyword serves as a placeholder in an empty loop, it means 'do nothing'.\n",
    "- We use pass when we want a loop (or function) in our code but do not want to write it out just now, but we still want to be able to run the rest of our code.\n",
    "- The break keyword terminates the loop when it is triggered.\n",
    "- The continue keyword moves to the top of the nearest enclosing loop and skips onto the next iteration.\n",
    "- Usually we use these inside a conditional in order to terminate a loop or skip an iteration when a condition is met."
   ]
  },
  {
   "cell_type": "markdown",
   "metadata": {},
   "source": [
    "### Examples"
   ]
  },
  {
   "cell_type": "code",
   "execution_count": 4,
   "metadata": {},
   "outputs": [
    {
     "name": "stdout",
     "output_type": "stream",
     "text": [
      "10 5\n"
     ]
    }
   ],
   "source": [
    "x,y = 10,5\n",
    "\n",
    "for i in range(20):\n",
    "    pass\n",
    "\n",
    "print(x,y)"
   ]
  },
  {
   "cell_type": "code",
   "execution_count": 1,
   "metadata": {},
   "outputs": [
    {
     "name": "stdout",
     "output_type": "stream",
     "text": [
      "1\n",
      "2\n",
      "3\n",
      "4\n",
      "6\n",
      "7\n",
      "8\n",
      "9\n",
      "11\n"
     ]
    }
   ],
   "source": [
    "for i in range(12):\n",
    "    if i%5 == 0:\n",
    "        continue\n",
    "    else:\n",
    "        print(i)"
   ]
  },
  {
   "cell_type": "code",
   "execution_count": 2,
   "metadata": {},
   "outputs": [
    {
     "name": "stdout",
     "output_type": "stream",
     "text": [
      "1\n",
      "2\n",
      "3\n",
      "4\n"
     ]
    }
   ],
   "source": [
    "for i in range(1,12):\n",
    "    if i%5 == 0:\n",
    "        break\n",
    "    else:\n",
    "        print(i)"
   ]
  },
  {
   "cell_type": "code",
   "execution_count": null,
   "metadata": {},
   "outputs": [],
   "source": []
  },
  {
   "cell_type": "markdown",
   "metadata": {},
   "source": [
    "## Exercise 2"
   ]
  },
  {
   "cell_type": "markdown",
   "metadata": {},
   "source": [
    "Using the names dictionary and order_list shown below, write a program that fits the following conditions:\n",
    "- It should produce an order by adding items to receipt from order_list sequentially.\n",
    "- It should Print \"Current Total: £x\" with each iteration\n",
    "- If the order value exceeds the budget value, it should stop adding items and print \"Budget Exceeded!\".\n",
    "- If not, each time it adds items, it should: \n",
    "    - Print \"Adding *full name of item* (quantity)\".\n",
    "    - Subtract the price from budget.\n",
    "    - Add the price to running_total.\n",
    "- It should print out running_total, order and budget formatted into print statements (done for you)."
   ]
  },
  {
   "cell_type": "code",
   "execution_count": 12,
   "metadata": {},
   "outputs": [
    {
     "name": "stdout",
     "output_type": "stream",
     "text": [
      "Current Total: £ 0.00\n",
      "Adding Tomatoes (4)\n",
      "\n",
      "Current Total: £ 3.48\n",
      "Adding Sugar (3)\n",
      "\n",
      "Current Total: £ 6.75\n",
      "Adding Washing Sponges (4)\n",
      "\n",
      "Current Total: £ 7.91\n",
      "Adding Juice (1)\n",
      "\n",
      "Current Total: £ 9.80\n",
      "Budget Exceeded!\n",
      "\n",
      "The total for the order is: £ 9.80\n",
      "The items in the order are: [('Tomatoes', 4), ('Sugar', 3), ('Washing Sponges', 4), ('Juice', 1)]\n",
      "The remaining budget is: £ 0.20\n"
     ]
    }
   ],
   "source": [
    "order_list = [(\"tom\", 0.87, 4), \n",
    "         (\"sug\", 1.09, 3), \n",
    "         (\"ws\", 0.29, 4), \n",
    "         (\"juc\", 1.89, 1), \n",
    "         (\"fo\", 1.29, 2)]\n",
    "\n",
    "names = {\"tom\":\"Tomatoes\", \n",
    "         \"sug\":\"Sugar\", \n",
    "         \"ws\":\"Washing Sponges\", \n",
    "         \"juc\":\"Juice\", \n",
    "         \"fo\":\"Foil\"}\n",
    "\n",
    "budget = 10.00\n",
    "running_total = 0\n",
    "receipt = []\n",
    "\n",
    "# CODE HERE\n",
    "        \n",
    "print(\"The total for the order is: £{:5.2f}\".format(running_total))\n",
    "print(\"The items in the order are: {}\".format(receipt))\n",
    "print(\"The remaining budget is: £{:5.2f}\".format(budget))"
   ]
  },
  {
   "cell_type": "code",
   "execution_count": null,
   "metadata": {},
   "outputs": [],
   "source": []
  },
  {
   "cell_type": "markdown",
   "metadata": {},
   "source": [
    "## Zip and Enumerate"
   ]
  },
  {
   "cell_type": "markdown",
   "metadata": {},
   "source": [
    "- The zip() function combines iterables into tuples, but zip is an iterator which returns a zip object, which must then be iterated over, or converted to a list to view.\n",
    "- Can unzip into tuples by adding * argument inside zip().\n",
    "- enumerate() returns iterator of tuples, containing (index,item).\n",
    "- This is useful for operations on both indices and items: combining a for loop on the iterable with a for loop on range(len(iterable))."
   ]
  },
  {
   "cell_type": "markdown",
   "metadata": {},
   "source": [
    "### Examples"
   ]
  },
  {
   "cell_type": "code",
   "execution_count": 46,
   "metadata": {},
   "outputs": [
    {
     "name": "stdout",
     "output_type": "stream",
     "text": [
      "[('tomato', 0.87), ('sugar', 1.09), ('sponges', 0.29), ('juice', 1.89), ('foil', 1.29)]\n"
     ]
    }
   ],
   "source": [
    "# zip() creates a zip object, which must be iterated or listed to view it\n",
    "\n",
    "items = [\"tomato\", \"sugar\", \"sponges\", \"juice\", \"foil\"]\n",
    "prices = [0.87, 1.09, 0.29, 1.89, 1.29]\n",
    "\n",
    "items_and_prices = zip(items, prices)\n",
    "\n",
    "print(list(items_and_prices))"
   ]
  },
  {
   "cell_type": "code",
   "execution_count": 47,
   "metadata": {},
   "outputs": [
    {
     "name": "stdout",
     "output_type": "stream",
     "text": [
      "tomato 0.87\n",
      "sugar 1.09\n",
      "sponges 0.29\n",
      "juice 1.89\n",
      "foil 1.29\n"
     ]
    }
   ],
   "source": [
    "for item, price in zip(items,prices):\n",
    "    print(item, price)"
   ]
  },
  {
   "cell_type": "code",
   "execution_count": 48,
   "metadata": {},
   "outputs": [
    {
     "name": "stdout",
     "output_type": "stream",
     "text": [
      "('tomato', 'sugar', 'sponges', 'juice', 'foil')\n",
      "(0.87, 1.09, 0.29, 1.89, 1.29)\n"
     ]
    }
   ],
   "source": [
    "# we can unzip a zip object into tuples using * inside the zip call\n",
    "\n",
    "items_and_prices = zip(items, prices) # creating zip object\n",
    "\n",
    "tuple_of_items, tuple_of_prices = zip(*items_and_prices) # unzipping zip object\n",
    "\n",
    "print(tuple_of_items)\n",
    "print(tuple_of_prices)"
   ]
  },
  {
   "cell_type": "code",
   "execution_count": 49,
   "metadata": {},
   "outputs": [
    {
     "name": "stdout",
     "output_type": "stream",
     "text": [
      "The price of tomato is £0.87\n",
      "The price of sugar is £1.09\n",
      "The price of sponges is £0.29\n",
      "The price of juice is £1.89\n",
      "The price of foil is £1.29\n"
     ]
    }
   ],
   "source": [
    "# can iterate over and perform operations on zip object\n",
    "\n",
    "for item, price in zip(items, prices):\n",
    "    print(\"The price of {} is £{}\".format(item, price))"
   ]
  },
  {
   "cell_type": "code",
   "execution_count": 48,
   "metadata": {},
   "outputs": [
    {
     "name": "stdout",
     "output_type": "stream",
     "text": [
      "0 hat\n",
      "1 scarf\n",
      "2 coat\n",
      "3 gloves\n"
     ]
    }
   ],
   "source": [
    "# enumerate() gives both items and their indices which can be operated on\n",
    "\n",
    "items = [\"hat\", \"scarf\", \"coat\", \"gloves\"]\n",
    "\n",
    "\n",
    "for index, item in enumerate(items):\n",
    "    print(index, item)"
   ]
  },
  {
   "cell_type": "code",
   "execution_count": 59,
   "metadata": {},
   "outputs": [
    {
     "name": "stdout",
     "output_type": "stream",
     "text": [
      "((0, 'hat'), (1, 'scarf'), (2, 'coat'), (3, 'gloves'))\n"
     ]
    }
   ],
   "source": [
    "# enumerate objects can be shown in lists/tuples etc too\n",
    "print(tuple(enumerate(items)))"
   ]
  },
  {
   "cell_type": "markdown",
   "metadata": {},
   "source": [
    "## List Comprehensions"
   ]
  },
  {
   "cell_type": "markdown",
   "metadata": {},
   "source": [
    "- List comprehension are a much more efficient way of writing a for loop which generates or modifies a list.\n",
    "- They are more suitable when we would use .append() on a list inside the for loop, or would iterate on the index of a list to modify each item, otherwise a for loop is better.\n",
    "- Complex for loops operating on a list such as the BMI calculator are not suitable for list comprehension: they would be far too complex to read easily.\n",
    "- They are written in a single line and the syntax compared to a for loop is thus:"
   ]
  },
  {
   "cell_type": "code",
   "execution_count": 115,
   "metadata": {},
   "outputs": [],
   "source": [
    "# for item in iterable:\n",
    "#     do_something\n",
    "\n",
    "# [do_something for item in iterable]"
   ]
  },
  {
   "cell_type": "markdown",
   "metadata": {},
   "source": [
    "### Examples"
   ]
  },
  {
   "cell_type": "markdown",
   "metadata": {},
   "source": [
    "Hence:"
   ]
  },
  {
   "cell_type": "code",
   "execution_count": 70,
   "metadata": {},
   "outputs": [
    {
     "name": "stdout",
     "output_type": "stream",
     "text": [
      "[25, 36, 49, 64, 81, 100, 121, 144, 169, 196, 225, 256, 289, 324, 361]\n"
     ]
    }
   ],
   "source": [
    "squares = []\n",
    "\n",
    "for i in range(5,20):\n",
    "    squares.append(i**2)\n",
    "\n",
    "print(squares)"
   ]
  },
  {
   "cell_type": "markdown",
   "metadata": {},
   "source": [
    "Becomes:"
   ]
  },
  {
   "cell_type": "code",
   "execution_count": 118,
   "metadata": {},
   "outputs": [
    {
     "name": "stdout",
     "output_type": "stream",
     "text": [
      "[0, 1, 4, 9, 16, 25, 36, 49, 64, 81]\n"
     ]
    }
   ],
   "source": [
    "squares = [i**2 for i in range(10)]\n",
    "\n",
    "print(squares)"
   ]
  },
  {
   "cell_type": "markdown",
   "metadata": {},
   "source": [
    "## List Comprehensions using Conditionals"
   ]
  },
  {
   "cell_type": "markdown",
   "metadata": {},
   "source": [
    "- Conditionals in list comprehensions are of 2 types.\n",
    "- When adding only an if statement, the conditional goes after the for statement.\n",
    "- When adding an if/else statement, the conditional goes before the for statement."
   ]
  },
  {
   "cell_type": "markdown",
   "metadata": {},
   "source": [
    "### Examples"
   ]
  },
  {
   "cell_type": "markdown",
   "metadata": {},
   "source": [
    "Hence:"
   ]
  },
  {
   "cell_type": "code",
   "execution_count": 119,
   "metadata": {},
   "outputs": [
    {
     "name": "stdout",
     "output_type": "stream",
     "text": [
      "[0, 9, 36, 81]\n"
     ]
    }
   ],
   "source": [
    "squared_threes = []\n",
    "\n",
    "for x in range(10):\n",
    "    if x%3 == 0:\n",
    "        squared_threes.append(x**2)\n",
    "\n",
    "print(squared_threes)"
   ]
  },
  {
   "cell_type": "markdown",
   "metadata": {},
   "source": [
    "Becomes:"
   ]
  },
  {
   "cell_type": "code",
   "execution_count": 120,
   "metadata": {},
   "outputs": [
    {
     "name": "stdout",
     "output_type": "stream",
     "text": [
      "[0, 9, 36, 81]\n"
     ]
    }
   ],
   "source": [
    "squared_threes = [x**2 for x in range(10) if x%3==0]\n",
    "\n",
    "print(squared_threes)"
   ]
  },
  {
   "cell_type": "markdown",
   "metadata": {},
   "source": [
    "Using if/else:"
   ]
  },
  {
   "cell_type": "code",
   "execution_count": 121,
   "metadata": {},
   "outputs": [
    {
     "name": "stdout",
     "output_type": "stream",
     "text": [
      "[0, 1, 4, 27, 16, 25, 216, 49, 64, 729]\n"
     ]
    }
   ],
   "source": [
    "squares_and_cubes = []\n",
    "\n",
    "for x in range(10):\n",
    "    if x%3 == 0:\n",
    "        squares_and_cubes.append(x**3)\n",
    "    else:\n",
    "        squares_and_cubes.append(x**2)\n",
    "\n",
    "print(squares_and_cubes)"
   ]
  },
  {
   "cell_type": "markdown",
   "metadata": {},
   "source": [
    "Becomes:"
   ]
  },
  {
   "cell_type": "code",
   "execution_count": 122,
   "metadata": {},
   "outputs": [
    {
     "name": "stdout",
     "output_type": "stream",
     "text": [
      "[0, 1, 4, 27, 16, 25, 216, 49, 64, 729]\n"
     ]
    }
   ],
   "source": [
    "squares_and_cubes = [x**3 if x%3==0 else x**2 for x in range(10)]\n",
    "\n",
    "print(squares_and_cubes)"
   ]
  },
  {
   "cell_type": "markdown",
   "metadata": {},
   "source": [
    "#### Word of Warning\n",
    "List comprehensions with conditionals can rapidly become overly complicated and unreadable, and give you a false sense of security as to your skill as a programmer. <br>\n",
    "Often it is cleaner to use a for loop than a complicated list comprehension, as although you may have written a slick one-liner, it will just be confusing to read when you come back to it in 6 months time. <br>\n",
    "Readability should always be the first concern, rather than completing as many operations as humanly possible in a single line."
   ]
  },
  {
   "cell_type": "code",
   "execution_count": null,
   "metadata": {},
   "outputs": [],
   "source": []
  },
  {
   "cell_type": "markdown",
   "metadata": {},
   "source": [
    "## Exercise 3"
   ]
  },
  {
   "cell_type": "markdown",
   "metadata": {},
   "source": [
    "- Create a list comprehension that squares even arguments, and adds 1 to and squares odd arguments\n",
    "- Test on my_list"
   ]
  },
  {
   "cell_type": "code",
   "execution_count": 13,
   "metadata": {},
   "outputs": [
    {
     "data": {
      "text/plain": [
       "[1156, 2704, 5184, 1600, 484, 5476, 8464]"
      ]
     },
     "execution_count": 13,
     "metadata": {},
     "output_type": "execute_result"
    }
   ],
   "source": [
    "my_list = [34,52,71,39,22,73,92]\n",
    "\n",
    "# CODE HERE"
   ]
  },
  {
   "cell_type": "markdown",
   "metadata": {},
   "source": [
    "## Exercise 4"
   ]
  },
  {
   "cell_type": "markdown",
   "metadata": {},
   "source": [
    "Filter shop_dict using list comprehension to find only items with values of over 1.00\n",
    "\n",
    "Assign them to a list called filtered_shop by their full names, not their codes, using names_dict."
   ]
  },
  {
   "cell_type": "code",
   "execution_count": 1,
   "metadata": {},
   "outputs": [
    {
     "name": "stdout",
     "output_type": "stream",
     "text": [
      "['Sugar', 'Coca-Cola', 'Coca-Cola Zero']\n"
     ]
    }
   ],
   "source": [
    "shop_dict = {\"tom\":0.87,\n",
    "        \"sug\":1.09,\n",
    "        \"ws\":0.29,\n",
    "        \"cc\":1.89,\n",
    "        \"ccz\":1.29}\n",
    "\n",
    "names_dict = {\"tom\":\"Tomatoes\", \n",
    "         \"sug\":\"Sugar\", \n",
    "         \"ws\":\"Washing Sponges\", \n",
    "         \"cc\":\"Coca-Cola\", \n",
    "         \"ccz\":\"Coca-Cola Zero\"}\n",
    "\n",
    "# CODE HERE\n",
    "\n",
    "print(filtered_shop)"
   ]
  },
  {
   "cell_type": "code",
   "execution_count": null,
   "metadata": {},
   "outputs": [],
   "source": []
  },
  {
   "cell_type": "markdown",
   "metadata": {},
   "source": [
    "## Nested For Loops"
   ]
  },
  {
   "cell_type": "markdown",
   "metadata": {},
   "source": [
    "- For loops can be used within for loops, known as nested for loops.\n",
    "- The control flow in nested for loops means that the outer loop performs all iterations of the inner loop on its first item before moving to the next iteration and repeating.\n",
    "- There is also a list comprehension equivalent of a nested for loop.\n",
    "- This idea of nesting for loops can be used indefinitely (for loop within for loop within for loop etc etc), but beyond a single nesting it becomes very complicated to read and understand.\n",
    "- They should be avoided where possible because the more nesting that occurs, the more inefficient the code is.\n",
    "- However, some legitimate use cases for them do exist - a common example being that of iterating over multiple lists."
   ]
  },
  {
   "cell_type": "code",
   "execution_count": 56,
   "metadata": {},
   "outputs": [
    {
     "name": "stdout",
     "output_type": "stream",
     "text": [
      "Outer Loop Operation: 1\n",
      "Inner Loop Operation: 1\n",
      "Inner Loop Operation: 2\n",
      "Inner Loop Operation: 3\n",
      "\n",
      "Outer Loop Operation: 2\n",
      "Inner Loop Operation: 1\n",
      "Inner Loop Operation: 2\n",
      "Inner Loop Operation: 3\n",
      "\n",
      "Outer Loop Operation: 3\n",
      "Inner Loop Operation: 1\n",
      "Inner Loop Operation: 2\n",
      "Inner Loop Operation: 3\n",
      "\n"
     ]
    }
   ],
   "source": [
    "# basic syntax, inner loop operations are performed FOR each outer loop operation\n",
    "for i in range(1,4):\n",
    "    print(\"Outer Loop Operation: {}\".format(i))\n",
    "    \n",
    "    for j in range(1,4):\n",
    "        print(\"Inner Loop Operation: {}\".format(j))\n",
    "    \n",
    "    print() # adds new line"
   ]
  },
  {
   "cell_type": "code",
   "execution_count": 54,
   "metadata": {},
   "outputs": [
    {
     "name": "stdout",
     "output_type": "stream",
     "text": [
      "[2, 4, 8, 3, 9, 27, 4, 16, 64]\n"
     ]
    }
   ],
   "source": [
    "# we perform operations using both counters\n",
    "mylist = []\n",
    "\n",
    "for x in [2,3,4]:\n",
    "    for y in [1,2,3]:\n",
    "        mylist.append(x**y)\n",
    "\n",
    "print(mylist)"
   ]
  },
  {
   "cell_type": "code",
   "execution_count": 55,
   "metadata": {},
   "outputs": [
    {
     "data": {
      "text/plain": [
       "[2, 4, 8, 3, 9, 27, 4, 16, 64]"
      ]
     },
     "execution_count": 55,
     "metadata": {},
     "output_type": "execute_result"
    }
   ],
   "source": [
    "# list comprehension syntax: operation first followed by both for statements\n",
    "[x**y for x in [2,3,4] for y in [1,2,3]]"
   ]
  },
  {
   "cell_type": "code",
   "execution_count": null,
   "metadata": {},
   "outputs": [],
   "source": []
  },
  {
   "cell_type": "markdown",
   "metadata": {},
   "source": [
    "## Exercise 5"
   ]
  },
  {
   "cell_type": "markdown",
   "metadata": {},
   "source": [
    "Write a program to produce the following pattern.\n",
    "\n",
    "CLUE: Use nested for loops, using one nested loop to increase in size and another to decrease."
   ]
  },
  {
   "cell_type": "code",
   "execution_count": 11,
   "metadata": {},
   "outputs": [
    {
     "name": "stdout",
     "output_type": "stream",
     "text": [
      "\n",
      "* \n",
      "* * \n",
      "* * * \n",
      "* * * * \n",
      "* * * * * \n",
      "* * * * \n",
      "* * * \n",
      "* * \n",
      "* \n"
     ]
    }
   ],
   "source": [
    "n=5\n",
    "\n",
    "# CODE HERE"
   ]
  },
  {
   "cell_type": "markdown",
   "metadata": {},
   "source": [
    "## Bonus Question"
   ]
  },
  {
   "cell_type": "markdown",
   "metadata": {},
   "source": [
    "Write a program to check whether each number from 10 to 50 is prime\n",
    "\n",
    "Your answer should take the following format:\n",
    "- \"x IS a prime number.\" for primes\n",
    "- \"x IS NOT a prime number because y is a factor of x.\" for non-primes\n",
    "\n",
    "CLUE: This is possible using a while loop nested in a for loop or using a nested for loop; if you can, try to find both."
   ]
  },
  {
   "cell_type": "code",
   "execution_count": 8,
   "metadata": {},
   "outputs": [
    {
     "name": "stdout",
     "output_type": "stream",
     "text": [
      "10 is NOT a prime number, because 2 is a factor of 10\n",
      "11 IS a prime number\n",
      "12 is NOT a prime number, because 2 is a factor of 12\n",
      "13 IS a prime number\n",
      "14 is NOT a prime number, because 2 is a factor of 14\n",
      "15 is NOT a prime number, because 3 is a factor of 15\n",
      "16 is NOT a prime number, because 2 is a factor of 16\n",
      "17 IS a prime number\n",
      "18 is NOT a prime number, because 2 is a factor of 18\n",
      "19 IS a prime number\n",
      "20 is NOT a prime number, because 2 is a factor of 20\n",
      "21 is NOT a prime number, because 3 is a factor of 21\n",
      "22 is NOT a prime number, because 2 is a factor of 22\n",
      "23 IS a prime number\n",
      "24 is NOT a prime number, because 2 is a factor of 24\n",
      "25 is NOT a prime number, because 5 is a factor of 25\n",
      "26 is NOT a prime number, because 2 is a factor of 26\n",
      "27 is NOT a prime number, because 3 is a factor of 27\n",
      "28 is NOT a prime number, because 2 is a factor of 28\n",
      "29 IS a prime number\n",
      "30 is NOT a prime number, because 2 is a factor of 30\n",
      "31 IS a prime number\n",
      "32 is NOT a prime number, because 2 is a factor of 32\n",
      "33 is NOT a prime number, because 3 is a factor of 33\n",
      "34 is NOT a prime number, because 2 is a factor of 34\n",
      "35 is NOT a prime number, because 5 is a factor of 35\n",
      "36 is NOT a prime number, because 2 is a factor of 36\n",
      "37 IS a prime number\n",
      "38 is NOT a prime number, because 2 is a factor of 38\n",
      "39 is NOT a prime number, because 3 is a factor of 39\n",
      "40 is NOT a prime number, because 2 is a factor of 40\n",
      "41 IS a prime number\n",
      "42 is NOT a prime number, because 2 is a factor of 42\n",
      "43 IS a prime number\n",
      "44 is NOT a prime number, because 2 is a factor of 44\n",
      "45 is NOT a prime number, because 3 is a factor of 45\n",
      "46 is NOT a prime number, because 2 is a factor of 46\n",
      "47 IS a prime number\n",
      "48 is NOT a prime number, because 2 is a factor of 48\n",
      "49 is NOT a prime number, because 7 is a factor of 49\n",
      "50 is NOT a prime number, because 2 is a factor of 50\n"
     ]
    }
   ],
   "source": [
    "# CODE HERE"
   ]
  },
  {
   "cell_type": "code",
   "execution_count": null,
   "metadata": {},
   "outputs": [],
   "source": []
  },
  {
   "cell_type": "markdown",
   "metadata": {},
   "source": [
    "## Summary\n",
    "This is a large, heavy lesson with a lot of content. Hopefully, we have understood what for loops are, how to write them and the numerous applications that they can be used for. Some key take-aways that you must understand are:\n",
    "\n",
    "- What a for loop does.\n",
    "- The difference between iterating on items and iterating on index.\n",
    "- How to use conditionals in a for loop.\n",
    "- How to use tuple unpacking.\n",
    "- What pass, break and continue do.\n",
    "- How to use zip() and enumerate().\n",
    "- How and when to use list comprehensions.\n",
    "\n",
    "\n",
    "## Further reading\n",
    "- There is no further reading for this lesson, please carefully go through these examples to fully understand the wide variety of applications of for loops.\n",
    "- For those who really want to read, please refer to the book Learning Python by Mark Lutz: bear in mind it is a reference text and over 1000 pages long. There is a whole chapter on for loops.\n",
    "- A pdf of Learning Python is available here: https://cfm.ehu.es/ricardo/docs/python/Learning_Python.pdf"
   ]
  },
  {
   "cell_type": "code",
   "execution_count": null,
   "metadata": {},
   "outputs": [],
   "source": []
  }
 ],
 "metadata": {
  "kernelspec": {
   "display_name": "Python 3",
   "language": "python",
   "name": "python3"
  },
  "language_info": {
   "codemirror_mode": {
    "name": "ipython",
    "version": 3
   },
   "file_extension": ".py",
   "mimetype": "text/x-python",
   "name": "python",
   "nbconvert_exporter": "python",
   "pygments_lexer": "ipython3",
   "version": "3.7.6"
  }
 },
 "nbformat": 4,
 "nbformat_minor": 2
}
