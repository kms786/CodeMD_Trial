{
 "cells": [
  {
   "cell_type": "markdown",
   "metadata": {},
   "source": [
    "# Solutions for Data Types and Structures"
   ]
  },
  {
   "cell_type": "markdown",
   "metadata": {},
   "source": [
    "## Lists Solutions"
   ]
  },
  {
   "cell_type": "markdown",
   "metadata": {},
   "source": [
    "### Question 1:\n",
    "Write a program that checks if the two words in a two-word string start with the same letter. <br>\n",
    "Copy-paste (and slightly modify) your code to try it for both cases."
   ]
  },
  {
   "cell_type": "code",
   "execution_count": 57,
   "metadata": {},
   "outputs": [
    {
     "data": {
      "text/plain": [
       "True"
      ]
     },
     "execution_count": 57,
     "metadata": {},
     "output_type": "execute_result"
    }
   ],
   "source": [
    "phrase1 = 'Clean Couch'\n",
    "\n",
    "split_string = phrase1.split()\n",
    "\n",
    "split_string[0][0] == split_string[1][0]"
   ]
  },
  {
   "cell_type": "code",
   "execution_count": 58,
   "metadata": {},
   "outputs": [
    {
     "data": {
      "text/plain": [
       "False"
      ]
     },
     "execution_count": 58,
     "metadata": {},
     "output_type": "execute_result"
    }
   ],
   "source": [
    "phrase2 = 'Giant Table'\n",
    "\n",
    "split_string = phrase2.split()\n",
    "\n",
    "split_string[0][0] == split_string[1][0]"
   ]
  },
  {
   "cell_type": "markdown",
   "metadata": {},
   "source": [
    "### Question 2:\n",
    "Write a program that returns a string with the __words__ reversed.\n",
    "Once again, try the same operation with both test cases."
   ]
  },
  {
   "cell_type": "code",
   "execution_count": 61,
   "metadata": {},
   "outputs": [
    {
     "data": {
      "text/plain": [
       "'phrase short a is This'"
      ]
     },
     "execution_count": 61,
     "metadata": {},
     "output_type": "execute_result"
    }
   ],
   "source": [
    "my_string1 = 'This is a short phrase'\n",
    "\n",
    "' '.join(my_string1.split()[::-1])"
   ]
  },
  {
   "cell_type": "code",
   "execution_count": 62,
   "metadata": {},
   "outputs": [
    {
     "data": {
      "text/plain": [
       "'one previous the than phrase longer significantly a actually is This'"
      ]
     },
     "execution_count": 62,
     "metadata": {},
     "output_type": "execute_result"
    }
   ],
   "source": [
    "my_string2 = 'This is actually a significantly longer phrase than the previous one'\n",
    "\n",
    "' '.join(my_string2.split()[::-1])"
   ]
  },
  {
   "cell_type": "markdown",
   "metadata": {},
   "source": [
    "## Data Types and Structures Solutions"
   ]
  },
  {
   "cell_type": "markdown",
   "metadata": {},
   "source": [
    "### Question 1"
   ]
  },
  {
   "cell_type": "markdown",
   "metadata": {},
   "source": [
    "Describe the key differences between a list, a dictionary and a tuple."
   ]
  },
  {
   "cell_type": "markdown",
   "metadata": {},
   "source": [
    "- List = mutable ordered sequence of elements\n",
    "- Tuple = immutable ordered sequence of elements\n",
    "- Dictionary = unordered collection of key:value pairs"
   ]
  },
  {
   "cell_type": "markdown",
   "metadata": {},
   "source": [
    "### Question 2"
   ]
  },
  {
   "cell_type": "markdown",
   "metadata": {},
   "source": [
    "What is mutability?"
   ]
  },
  {
   "cell_type": "markdown",
   "metadata": {},
   "source": [
    "Ability to modify data in a data structure after its creation"
   ]
  },
  {
   "cell_type": "markdown",
   "metadata": {},
   "source": [
    "### Question 3"
   ]
  },
  {
   "cell_type": "markdown",
   "metadata": {},
   "source": [
    "Print the string python from this dictionary"
   ]
  },
  {
   "cell_type": "code",
   "execution_count": 1,
   "metadata": {},
   "outputs": [],
   "source": [
    "d = {'start here':1,'k1':[1,2,3,{'k2':[1,2,{'k3':['keep going',{'further':[1,2,3,4,[{'k4':'python'}]]}]}]}]}"
   ]
  },
  {
   "cell_type": "code",
   "execution_count": 4,
   "metadata": {},
   "outputs": [
    {
     "data": {
      "text/plain": [
       "'python'"
      ]
     },
     "execution_count": 4,
     "metadata": {},
     "output_type": "execute_result"
    }
   ],
   "source": [
    "print(d['k1'][3]['k2'][2]['k3'][1]['further'][4][0]['k4'])"
   ]
  },
  {
   "cell_type": "markdown",
   "metadata": {},
   "source": [
    "### Question 4"
   ]
  },
  {
   "cell_type": "markdown",
   "metadata": {},
   "source": [
    "Create a nested dictionary called shop with sub-dictionaries called 'prices' and 'pack_sizes'. <br>\n",
    "'prices' should contain items as keys and prices as values. <br>\n",
    "'pack_sizes' should contain items as keys and pack sizes as values. <br>\n",
    "\n",
    "- Tomatoes cost 87p for a pack of 6\n",
    "- 500g sugar costs £1.09\n",
    "- Washing sponges cost 29p for a pack of 10\n",
    "- Juice is £1.89 per 1.5l bottle\n",
    "- Foil is £1.29 per 30m roll\n",
    "\n",
    "Use the same keys for both sub-dictionaries, e.g. 'tomato':0.87 and 'tomato':'Pack of 6' <br>\n",
    "Use the provided list as the values for pack_sizes (copy-paste the strings):"
   ]
  },
  {
   "cell_type": "code",
   "execution_count": 47,
   "metadata": {},
   "outputs": [],
   "source": [
    "[\"Pack of 6\", \"500g\", \"Pack of 10\", \"1.5l bottle\", \"30m roll\"]\n",
    "\n",
    "shop = {\"prices\":{\"tomato\":0.87, \n",
    "                  \"sugar\":1.09, \n",
    "                  \"washing_sponges\":0.29, \n",
    "                  \"juice\":1.89, \n",
    "                  \"foil\":1.29}, \n",
    "        \n",
    "        \"pack_sizes\":{\"tomato\":\"Pack of 6\", \n",
    "                      \"sugar\":\"500g\", \n",
    "                      \"washing_sponges\":\"Pack of 10\", \n",
    "                      \"juice\":\"1.5l bottle\", \n",
    "                      \"foil\":\"30m roll\"}}"
   ]
  },
  {
   "cell_type": "code",
   "execution_count": 8,
   "metadata": {},
   "outputs": [
    {
     "data": {
      "text/plain": [
       "{'prices': {'tomato': 0.87,\n",
       "  'sugar': 1.09,\n",
       "  'washing_sponges': 0.29,\n",
       "  'juice': 1.89,\n",
       "  'foil': 1.29},\n",
       " 'pack_sizes': {'tomato': 'Pack of 6',\n",
       "  'sugar': '500g',\n",
       "  'washing_sponges': 'Pack of 10',\n",
       "  'juice': '1.5l bottle',\n",
       "  'foil': '30m roll'}}"
      ]
     },
     "execution_count": 8,
     "metadata": {},
     "output_type": "execute_result"
    }
   ],
   "source": [
    "shop"
   ]
  },
  {
   "cell_type": "markdown",
   "metadata": {},
   "source": [
    "### Question 5"
   ]
  },
  {
   "cell_type": "markdown",
   "metadata": {},
   "source": [
    "Using the nested dictionary above, find the price of the following shopping list:\n",
    "\n",
    "- 18 tomatoes\n",
    "- 2 packs of washing sponges\n",
    "- 4.5 litres of juice\n",
    "- 4 rolls of foil\n",
    "- 2kg sugar\n",
    "\n",
    "Do it in this (rather tedious) order:\n",
    "\n",
    "Create 4 lists using indexing:\n",
    "- The first containing the cost per pack of each item called 'pack_cost', indexing the 'prices' dictionary.\n",
    "- The second containing the pack size of each item called 'pack', indexing the 'pack_sizes' dictionary.\n",
    "- The third containing the quantities of each item called 'quant' (created for you).\n",
    "- The fourth containing cost per pack multiplied by quantity for each item called 'tsp', indexing 'unit_cost' and 'pack'.\n",
    "\n",
    "Print your answer as a nested list of 4 lists called order.\n",
    "\n",
    "Using sum, find the subtotal (exc. VAT) as a variable called order_subtotal.\n",
    "\n",
    "Find the total (inc. VAT) as a variable called order_total (VAT is 20%).\n",
    "\n",
    "(This is a very tedious way of doing this, but it will show you why for loops are super useful later on)"
   ]
  },
  {
   "cell_type": "code",
   "execution_count": 51,
   "metadata": {
    "scrolled": true
   },
   "outputs": [],
   "source": [
    "unit_cost = [shop[\"prices\"][\"tomato\"],\n",
    "             shop[\"prices\"][\"sugar\"],\n",
    "             shop[\"prices\"][\"washing_sponges\"],\n",
    "             shop[\"prices\"][\"juice\"],\n",
    "             shop[\"prices\"][\"foil\"]]\n",
    "\n",
    "pack = [shop[\"pack_sizes\"][\"tomato\"],\n",
    "        shop[\"pack_sizes\"][\"sugar\"],\n",
    "        shop[\"pack_sizes\"][\"washing_sponges\"],\n",
    "        shop[\"pack_sizes\"][\"juice\"],\n",
    "        shop[\"pack_sizes\"][\"foil\"]]\n",
    "\n",
    "quant = [3,4,2,3,4]\n",
    "\n",
    "tsp = [unit_cost[0]*quant[0],\n",
    "       unit_cost[1]*quant[1],\n",
    "       unit_cost[2]*quant[2],\n",
    "       unit_cost[3]*quant[3],\n",
    "       unit_cost[4]*quant[4]]\n",
    "\n",
    "order = [unit_cost, pack, quant, tsp]\n",
    "\n",
    "order_subtotal = sum(tsp)\n",
    "\n",
    "order_total = order_subtotal * 1.2"
   ]
  },
  {
   "cell_type": "code",
   "execution_count": 52,
   "metadata": {},
   "outputs": [
    {
     "name": "stdout",
     "output_type": "stream",
     "text": [
      "[[0.87, 1.09, 0.29, 1.89, 1.29], ['Pack of 6', '500g', 'Pack of 10', '1.5l bottle', '30m roll'], [3, 4, 2, 3, 4], [2.61, 4.36, 0.58, 5.67, 5.16]]\n"
     ]
    }
   ],
   "source": [
    "print(order)"
   ]
  },
  {
   "cell_type": "code",
   "execution_count": 53,
   "metadata": {},
   "outputs": [
    {
     "name": "stdout",
     "output_type": "stream",
     "text": [
      "The subtotal is £18.38.\n"
     ]
    }
   ],
   "source": [
    "print(\"The subtotal is £{:4.2f}.\".format(order_subtotal))"
   ]
  },
  {
   "cell_type": "code",
   "execution_count": 54,
   "metadata": {},
   "outputs": [
    {
     "name": "stdout",
     "output_type": "stream",
     "text": [
      "The total is £22.06.\n"
     ]
    }
   ],
   "source": [
    "print(\"The total is £{:4.2f}.\".format(order_total))"
   ]
  },
  {
   "cell_type": "code",
   "execution_count": null,
   "metadata": {},
   "outputs": [],
   "source": []
  }
 ],
 "metadata": {
  "kernelspec": {
   "display_name": "Python 3",
   "language": "python",
   "name": "python3"
  },
  "language_info": {
   "codemirror_mode": {
    "name": "ipython",
    "version": 3
   },
   "file_extension": ".py",
   "mimetype": "text/x-python",
   "name": "python",
   "nbconvert_exporter": "python",
   "pygments_lexer": "ipython3",
   "version": "3.7.6"
  }
 },
 "nbformat": 4,
 "nbformat_minor": 4
}
