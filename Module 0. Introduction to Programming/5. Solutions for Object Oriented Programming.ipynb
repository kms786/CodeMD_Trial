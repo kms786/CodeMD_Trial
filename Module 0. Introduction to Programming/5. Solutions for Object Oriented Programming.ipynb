{
 "cells": [
  {
   "cell_type": "markdown",
   "metadata": {},
   "source": [
    "# Solutions for Object Oriented Programming"
   ]
  },
  {
   "cell_type": "markdown",
   "metadata": {},
   "source": [
    "## Exercise\n",
    "Here is an example for you to have a go at. Try defining a class for a cylinder. It should contain: <br>\n",
    "- 2 parameters:\n",
    "    - height\n",
    "    - radius, which should have a default value of 1\n",
    "<br><br>\n",
    "- 4 attributes:\n",
    "    - height\n",
    "    - radius\n",
    "    - surface_area, initialised as None\n",
    "    - volume, initialised as None\n",
    "<br><br>\n",
    "- 2 methods:\n",
    "    - get_surface_area: define surface_area, update attribute surface_area, return surface_area rounded to 2dp.\n",
    "    - get_volume: define volume, update attribute volume, return volume rounded to 2dp.\n",
    "<br><br>\n",
    "- Use google to find the formulae for surface area and volume of a cylinder.\n",
    "- Use the formulae to create method definitions for these."
   ]
  },
  {
   "cell_type": "code",
   "execution_count": 5,
   "metadata": {},
   "outputs": [],
   "source": [
    "# import the math module, use math.pi for pi\n",
    "import math\n",
    "\n",
    "# define a class called Cylinder\n",
    "class Cylinder():\n",
    "\n",
    "    \n",
    "    # define __init__ with parameters height and radius with default 1\n",
    "    def __init__(self, height, radius = 1):\n",
    "        \n",
    "        # define attributes, initialise surface_area and volume as None\n",
    "        self.height = height\n",
    "        self.radius = radius\n",
    "        self.surface_area = None\n",
    "        self.volume = None\n",
    "    \n",
    "    # define get_surface_area method\n",
    "    def get_surface_area(self):\n",
    "        \n",
    "        # assign surface area to variable surface_area\n",
    "        surface_area = 2 * math.pi * self.radius * (self.radius + self.height)\n",
    "        \n",
    "        # update attribute surface_area\n",
    "        self.surface_area = surface_area\n",
    "        \n",
    "        # return surface area rounded to 2dp\n",
    "        return round(surface_area, 2)\n",
    "    \n",
    "    # define get_volume method\n",
    "    def get_volume(self):\n",
    "        \n",
    "        volume = math.pi * self.radius**2 * self.height\n",
    "        \n",
    "        self.volume = volume\n",
    "        \n",
    "        return round(volume, 2)"
   ]
  },
  {
   "cell_type": "markdown",
   "metadata": {},
   "source": [
    "Now test your class by running the following cells:"
   ]
  },
  {
   "cell_type": "code",
   "execution_count": 6,
   "metadata": {},
   "outputs": [],
   "source": [
    "cyl1 = Cylinder(5,20)"
   ]
  },
  {
   "cell_type": "code",
   "execution_count": 7,
   "metadata": {},
   "outputs": [
    {
     "name": "stdout",
     "output_type": "stream",
     "text": [
      "5\n",
      "20\n"
     ]
    }
   ],
   "source": [
    "print(cyl1.height)\n",
    "print(cyl1.radius)"
   ]
  },
  {
   "cell_type": "code",
   "execution_count": 8,
   "metadata": {},
   "outputs": [],
   "source": [
    "cyl1.volume\n",
    "cyl1.surface_area"
   ]
  },
  {
   "cell_type": "code",
   "execution_count": 9,
   "metadata": {},
   "outputs": [
    {
     "data": {
      "text/plain": [
       "3141.59"
      ]
     },
     "execution_count": 9,
     "metadata": {},
     "output_type": "execute_result"
    }
   ],
   "source": [
    "cyl1.get_surface_area()"
   ]
  },
  {
   "cell_type": "code",
   "execution_count": 10,
   "metadata": {},
   "outputs": [
    {
     "data": {
      "text/plain": [
       "6283.19"
      ]
     },
     "execution_count": 10,
     "metadata": {},
     "output_type": "execute_result"
    }
   ],
   "source": [
    "cyl1.get_volume()"
   ]
  },
  {
   "cell_type": "code",
   "execution_count": 11,
   "metadata": {},
   "outputs": [
    {
     "name": "stdout",
     "output_type": "stream",
     "text": [
      "6283.185307179587\n",
      "3141.592653589793\n"
     ]
    }
   ],
   "source": [
    "print(cyl1.volume)\n",
    "print(cyl1.surface_area)"
   ]
  },
  {
   "cell_type": "code",
   "execution_count": null,
   "metadata": {},
   "outputs": [],
   "source": []
  }
 ],
 "metadata": {
  "kernelspec": {
   "display_name": "Python 3",
   "language": "python",
   "name": "python3"
  },
  "language_info": {
   "codemirror_mode": {
    "name": "ipython",
    "version": 3
   },
   "file_extension": ".py",
   "mimetype": "text/x-python",
   "name": "python",
   "nbconvert_exporter": "python",
   "pygments_lexer": "ipython3",
   "version": "3.7.6"
  }
 },
 "nbformat": 4,
 "nbformat_minor": 4
}
