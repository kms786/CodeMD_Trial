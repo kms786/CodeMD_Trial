{
 "cells": [
  {
   "cell_type": "code",
   "execution_count": 10,
   "metadata": {},
   "outputs": [],
   "source": [
    "# create dictionary of questions\n",
    "\n",
    "questions = {\"1\":\"Active cancer (treatment or palliation within 6 months)\", \n",
    "             \"2\":\"Bedridden recently (>3 days or major surgery within 12 weeks)\", \n",
    "             \"3\":\"Calf swelling >3 cm compared to the other leg (measured 10 cm below tibial tuberosity)\", \n",
    "             \"4\":\"Collateral (nonvaricose) superficial veins present\", \n",
    "             \"5\":\"Entire leg swollen\", \n",
    "             \"6\":\"Localized tenderness along the deep venous system\", \n",
    "             \"7\":\"Pitting edema, confined to symptomatic leg\", \n",
    "             \"8\": \"Paralysis, paresis, or recent plaster immobilization of the lower extremity\", \n",
    "             \"9\":\"Previously documented DVT\", \n",
    "             \"10\":\"Alternative diagnosis to DVT as likely or more likely\"}"
   ]
  },
  {
   "cell_type": "code",
   "execution_count": 19,
   "metadata": {},
   "outputs": [
    {
     "name": "stdout",
     "output_type": "stream",
     "text": [
      "Active cancer (treatment or palliation within 6 months)? Please answer with Y or N:\n",
      "y\n",
      "Bedridden recently (>3 days or major surgery within 12 weeks)? Please answer with Y or N:\n",
      "n\n",
      "Calf swelling >3 cm compared to the other leg (measured 10 cm below tibial tuberosity)? Please answer with Y or N:\n",
      "n\n",
      "Collateral (nonvaricose) superficial veins present? Please answer with Y or N:\n",
      "n\n",
      "Entire leg swollen? Please answer with Y or N:\n",
      "n\n",
      "Localized tenderness along the deep venous system? Please answer with Y or N:\n",
      "n\n",
      "Pitting edema, confined to symptomatic leg? Please answer with Y or N:\n",
      "n\n",
      "Paralysis, paresis, or recent plaster immobilization of the lower extremity? Please answer with Y or N:\n",
      "n\n",
      "Previously documented DVT? Please answer with Y or N:\n",
      "n\n",
      "Alternative diagnosis to DVT as likely or more likely? Please answer with Y or N:\n",
      "y\n",
      "\n",
      "The Wells Score is -1. DVT unlikely.\n"
     ]
    }
   ],
   "source": [
    "# initialise counter variable which resets to zero each time the counter is run\n",
    "count = 0\n",
    "\n",
    "for key, value in questions.items(): # iterate over questions in the list\n",
    "    \n",
    "    # while True statement continues to ask question until answer received\n",
    "    while True:\n",
    "        q = input(f\"{value}? Please answer with Y or N:\\n\") # ask question with extra rubric\n",
    "        \n",
    "        # standardises answers to lowercase\n",
    "        q = q.lower()\n",
    "        \n",
    "        if q == \"y\" or q == \"n\": # break while loop if valid answer received\n",
    "            break\n",
    "        \n",
    "        else: # if invalid, ask again\n",
    "            print(\"That is not a valid answer. Please try again.\")\n",
    "    \n",
    "    # add 1 to score if answer is y\n",
    "    if q == 'y':\n",
    "        \n",
    "        # exception for question 10, -2 for y\n",
    "        if key == \"10\":\n",
    "            count -= 2\n",
    "            \n",
    "            # break avoids adding 1\n",
    "            break\n",
    "        \n",
    "        # add 1 to score if answer is y\n",
    "        count += 1\n",
    "\n",
    "# print new line\n",
    "print()\n",
    "\n",
    "# categorise and return score formatted by risk category\n",
    "if count <= 0:\n",
    "    print(f\"The Wells Score is {count}. DVT unlikely.\")\n",
    "\n",
    "elif count == 1 or count == 2:\n",
    "    print(f\"The Wells Score is {count}. Moderate risk.\")\n",
    "\n",
    "else:\n",
    "    print(f\"The Wells Score is {count}. DVT likely.\")"
   ]
  },
  {
   "cell_type": "code",
   "execution_count": null,
   "metadata": {},
   "outputs": [],
   "source": []
  }
 ],
 "metadata": {
  "kernelspec": {
   "display_name": "Python 3",
   "language": "python",
   "name": "python3"
  },
  "language_info": {
   "codemirror_mode": {
    "name": "ipython",
    "version": 3
   },
   "file_extension": ".py",
   "mimetype": "text/x-python",
   "name": "python",
   "nbconvert_exporter": "python",
   "pygments_lexer": "ipython3",
   "version": "3.7.6"
  }
 },
 "nbformat": 4,
 "nbformat_minor": 4
}
