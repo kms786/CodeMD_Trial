{
 "cells": [
  {
   "cell_type": "markdown",
   "metadata": {},
   "source": [
    "# Solutions for Data Types and Structures"
   ]
  },
  {
   "cell_type": "markdown",
   "metadata": {},
   "source": [
    "## Lists Solutions"
   ]
  },
  {
   "cell_type": "markdown",
   "metadata": {},
   "source": [
    "### Question 1:\n",
    "Write a program that checks if the two words in a two-word string start with the same letter. <br>\n",
    "Copy-paste (and slightly modify) your code to try it for both cases."
   ]
  },
  {
   "cell_type": "code",
   "execution_count": 57,
   "metadata": {},
   "outputs": [
    {
     "data": {
      "text/plain": [
       "True"
      ]
     },
     "execution_count": 57,
     "metadata": {},
     "output_type": "execute_result"
    }
   ],
   "source": [
    "phrase1 = 'Clean Couch'\n",
    "\n",
    "split_string = phrase1.split()\n",
    "\n",
    "split_string[0][0] == split_string[1][0]"
   ]
  },
  {
   "cell_type": "code",
   "execution_count": 58,
   "metadata": {},
   "outputs": [
    {
     "data": {
      "text/plain": [
       "False"
      ]
     },
     "execution_count": 58,
     "metadata": {},
     "output_type": "execute_result"
    }
   ],
   "source": [
    "phrase2 = 'Giant Table'\n",
    "\n",
    "split_string = phrase2.split()\n",
    "\n",
    "split_string[0][0] == split_string[1][0]"
   ]
  },
  {
   "cell_type": "markdown",
   "metadata": {},
   "source": [
    "### Question 2:\n",
    "Write a program that returns a string with the __words__ reversed.\n",
    "Once again, try the same operation with both test cases."
   ]
  },
  {
   "cell_type": "code",
   "execution_count": 61,
   "metadata": {},
   "outputs": [
    {
     "data": {
      "text/plain": [
       "'phrase short a is This'"
      ]
     },
     "execution_count": 61,
     "metadata": {},
     "output_type": "execute_result"
    }
   ],
   "source": [
    "my_string1 = 'This is a short phrase'\n",
    "\n",
    "' '.join(my_string1.split()[::-1])"
   ]
  },
  {
   "cell_type": "code",
   "execution_count": 62,
   "metadata": {},
   "outputs": [
    {
     "data": {
      "text/plain": [
       "'one previous the than phrase longer significantly a actually is This'"
      ]
     },
     "execution_count": 62,
     "metadata": {},
     "output_type": "execute_result"
    }
   ],
   "source": [
    "my_string2 = 'This is actually a significantly longer phrase than the previous one'\n",
    "\n",
    "' '.join(my_string2.split()[::-1])"
   ]
  },
  {
   "cell_type": "markdown",
   "metadata": {},
   "source": [
    "## Data Types and Structures Solutions"
   ]
  },
  {
   "cell_type": "markdown",
   "metadata": {},
   "source": [
    "### Question 1"
   ]
  },
  {
   "cell_type": "markdown",
   "metadata": {},
   "source": [
    "Describe the key differences between a list, a dictionary and a tuple."
   ]
  },
  {
   "cell_type": "markdown",
   "metadata": {},
   "source": [
    "- List = mutable ordered sequence of elements\n",
    "- Tuple = immutable ordered sequence of elements\n",
    "- Dictionary = unordered collection of key:value pairs"
   ]
  },
  {
   "cell_type": "markdown",
   "metadata": {},
   "source": [
    "### Question 2"
   ]
  },
  {
   "cell_type": "markdown",
   "metadata": {},
   "source": [
    "What is mutability?"
   ]
  },
  {
   "cell_type": "markdown",
   "metadata": {},
   "source": [
    "Ability to modify data in a data structure after its creation"
   ]
  },
  {
   "cell_type": "markdown",
   "metadata": {},
   "source": [
    "### Question 3"
   ]
  },
  {
   "cell_type": "markdown",
   "metadata": {},
   "source": [
    "Print the string python from this dictionary"
   ]
  },
  {
   "cell_type": "code",
   "execution_count": 1,
   "metadata": {},
   "outputs": [],
   "source": [
    "d = {'start here':1,'k1':[1,2,3,{'k2':[1,2,{'k3':['keep going',{'further':[1,2,3,4,[{'k4':'python'}]]}]}]}]}"
   ]
  },
  {
   "cell_type": "code",
   "execution_count": 4,
   "metadata": {},
   "outputs": [
    {
     "data": {
      "text/plain": [
       "'python'"
      ]
     },
     "execution_count": 4,
     "metadata": {},
     "output_type": "execute_result"
    }
   ],
   "source": [
    "print(d['k1'][3]['k2'][2]['k3'][1]['further'][4][0]['k4'])"
   ]
  },
  {
   "cell_type": "markdown",
   "metadata": {},
   "source": [
    "### Question 4"
   ]
  },
  {
   "cell_type": "markdown",
   "metadata": {},
   "source": [
    "Your task through the following questions is to compile a set of patient profiles, including identification information and observations. <br>\n",
    "Each patient profile should contain:\n",
    "- ID info\n",
    "    - First Name\n",
    "        - `str` (data type)\n",
    "        - `'first_name'` (key name)\n",
    "    - Surname\n",
    "        - `str`\n",
    "        - `'surname'`\n",
    "    - DOB\n",
    "        - encode as `str`, with format dd/mm/yyyy (don't worry about datetime data for now)\n",
    "        - `'dob'`\n",
    "    - NHS Number\n",
    "        - `str` with __NO SPACES__\n",
    "        - `'nhs_num'`\n",
    "<br><br>\n",
    "- Observations\n",
    "    - Systolic BP\n",
    "        - `int`\n",
    "        - `'sys_bp'`\n",
    "    - Diastolic BP\n",
    "        - `int`\n",
    "        - `'dia_bp'`\n",
    "    - Pulse Rate\n",
    "        - `int`\n",
    "        - `'pulse'`\n",
    "    - Temperature\n",
    "        - `float`\n",
    "        - `'temp'`\n",
    "    - Resp Rate\n",
    "        - `int`\n",
    "        - `'rr'`\n",
    "    - On oxygen \n",
    "        - `int` (Yes = 1, No = 0)\n",
    "        - `'on_o2'`\n",
    "    - SpO2\n",
    "        - `float`\n",
    "        - `'sats'`\n",
    "    - Consciousness level\n",
    "        - `int` (Alert = 4, Voice = 3, Pain = 2, Unresponsive = 1)\n",
    "        - `'conscious'`\n",
    "    <br><br>\n",
    "    \n",
    "Start off by creating 2 dictionaries called `ident` and `obs` for the parameters detailed above. <br>\n",
    "Use the variable names listed as the keys. <br>\n",
    "Initialise the values as the empty string `''` for `str` type and `0` for `int` or `float` type.\n",
    "- __There is no provided input to check your answer against as this would entirely give the game away.__"
   ]
  },
  {
   "cell_type": "code",
   "execution_count": 4,
   "metadata": {},
   "outputs": [],
   "source": [
    "ident = {'first_name':'',\n",
    "         'surname':'',\n",
    "         'dob':'',\n",
    "         'nhs_num':''}\n",
    "\n",
    "obs = {'sys_bp':0,\n",
    "       'dia_bp':0,\n",
    "       'pulse':0,\n",
    "       'temp':0,\n",
    "       'rr':0,\n",
    "       'on_o2':0,\n",
    "       'sats':0,\n",
    "       'conscious':0}"
   ]
  },
  {
   "cell_type": "code",
   "execution_count": null,
   "metadata": {},
   "outputs": [],
   "source": []
  },
  {
   "cell_type": "markdown",
   "metadata": {},
   "source": [
    "### Question 5"
   ]
  },
  {
   "cell_type": "markdown",
   "metadata": {},
   "source": [
    "Using the dictionaries you created above as a template, create a dictionary called `patient` which will store the details of a single patient. <br>\n",
    "This dictionary should contain 2 sub-dictionaries, `'ident'` and `'obs'`, which you can copy from the question above.\n",
    "- __As above, there is no provided input to check your answer against as this would entirely give the game away.__"
   ]
  },
  {
   "cell_type": "code",
   "execution_count": 5,
   "metadata": {},
   "outputs": [],
   "source": [
    "patient = {'ident':{'first_name':'',\n",
    "                    'surname':'',\n",
    "                    'dob':'',\n",
    "                    'nhs_num':''},\n",
    "           \n",
    "           'obs':{'sys_bp':0,\n",
    "                  'dia_bp':0,\n",
    "                  'pulse':0,\n",
    "                  'temp':0,\n",
    "                  'rr':0,\n",
    "                  'on_o2':0,\n",
    "                  'sats':0,\n",
    "                  'conscious':0}}"
   ]
  },
  {
   "cell_type": "code",
   "execution_count": null,
   "metadata": {},
   "outputs": [],
   "source": []
  },
  {
   "cell_type": "markdown",
   "metadata": {},
   "source": [
    "### Question 6"
   ]
  },
  {
   "cell_type": "markdown",
   "metadata": {},
   "source": [
    "Now, we can use the dictionary `patient` to create a dictionary called `patients` containing the details of 3 patients listed below. <br>\n",
    "Pay attention to the details, as they will not be exactly in the format you have in the dictionary (just like real life!). <br>\n",
    "You must extract only the relevant information. <br>\n",
    "For patient 3, think about how you can encode a value that you do not have information for (clue = think about how you initialised the dictionaries when you created them).\n",
    "<br><br>\n",
    "- `patients` should be constructed as a dictionary containing 3 sub-dictionaries.<br>\n",
    "- Each sub-dictionary should take the patient ID as its key and the value should take the format of the `patient` dictionary you previously created. <br>\n",
    "- Ensure the values take the correct type as defined in the questions above.\n",
    "- __Once again, there is no provided input to check your answer against as this would entirely give the game away.__\n",
    "<br><br><br>\n",
    "\n",
    "#### Patient 1\n",
    "- ID: pt1\n",
    "- Name: John Smith\n",
    "- Date of Birth: 24 Mar 1957\n",
    "- NHS Number: 374 6848 1839\n",
    "- Blood Pressure: 157/82, HR 99\n",
    "- ICD 10 Diagnosis: COPD with (Acute) Exacerbation\n",
    "- Resp Rate: 21\n",
    "- O2 Sats: 89% on Oxygen\n",
    "- Consciousness: Alert\n",
    "- Temp: 39.7\n",
    "\n",
    "\n",
    "#### Patient 2\n",
    "- ID: pt2\n",
    "- Name: Jane Smith\n",
    "- Date of Birth: 31 July 1988\n",
    "- NHS Number: 289 1738 1819\n",
    "- Blood Pressure: 96/37, HR 130\n",
    "- ICD 10 Diagnosis: Hypovolemic Shock\n",
    "- Resp Rate: 32\n",
    "- O2 Sats: 79.8% on Oxygen\n",
    "- Consciousness: Unresponsive\n",
    "- Temp: 35.1\n",
    "\n",
    "\n",
    "#### Patient 3\n",
    "- ID: pt3\n",
    "- Name: John Doe\n",
    "- Date of Birth: unknown\n",
    "- NHS Number: unknown\n",
    "- Blood Pressure: 128/63, HR 72\n",
    "- ICD 10 Diagnosis: Alcohol Abuse with Intoxication\n",
    "- Resp Rate: 12\n",
    "- O2 Sats: 98% on Room Air\n",
    "- Consciousness: Pain\n",
    "- Temp: 36.5\n"
   ]
  },
  {
   "cell_type": "code",
   "execution_count": 6,
   "metadata": {},
   "outputs": [],
   "source": [
    "patients = {'pt1':{'ident':{'first_name':'John',\n",
    "                            'surname':'Smith',\n",
    "                            'dob':'24/03/1957',\n",
    "                            'nhs_num':'37468481839'},\n",
    "                   \n",
    "                   'obs':{'sys_bp':157,\n",
    "                          'dia_bp':82,\n",
    "                          'pulse':99,\n",
    "                          'temp':39.7,\n",
    "                          'rr':21,\n",
    "                          'on_o2':1,\n",
    "                          'sats':89.0,\n",
    "                          'conscious':3}},\n",
    "            \n",
    "            \n",
    "            'pt2':{'ident':{'first_name':'Jane',\n",
    "                            'surname':'Smith',\n",
    "                            'dob':'31/07/1988',\n",
    "                            'nhs_num':'28917381819'},\n",
    "                   \n",
    "                   'obs':{'sys_bp':96,\n",
    "                          'dia_bp':37,\n",
    "                          'pulse':130,\n",
    "                          'temp':35.1,\n",
    "                          'rr':32,\n",
    "                          'on_o2':1,\n",
    "                          'sats':79.8,\n",
    "                          'conscious':1}},\n",
    "            \n",
    "            \n",
    "            'pt3':{'ident':{'first_name':'John',\n",
    "                            'surname':'Doe',\n",
    "                            'dob':'',\n",
    "                            'nhs_num':''},\n",
    "                   \n",
    "                   'obs':{'sys_bp':128,\n",
    "                          'dia_bp':63,\n",
    "                          'pulse':72,\n",
    "                          'temp':36.5,\n",
    "                          'rr':12,\n",
    "                          'on_o2':0,\n",
    "                          'sats':98.0,\n",
    "                          'conscious':2}}}"
   ]
  },
  {
   "cell_type": "code",
   "execution_count": null,
   "metadata": {},
   "outputs": [],
   "source": []
  },
  {
   "cell_type": "markdown",
   "metadata": {},
   "source": [
    "### Question 7"
   ]
  },
  {
   "cell_type": "markdown",
   "metadata": {},
   "source": [
    "Now that you have created the `patients` dictionary, it is time to actually use it!<br>\n",
    "Obtain the following information:\n",
    "- Whole patient profile for pt3\n",
    "- Identification info for pt1\n",
    "- Observations for pt2\n",
    "- Date of Birth for pt1\n",
    "- Resp Rate for pt3"
   ]
  },
  {
   "cell_type": "code",
   "execution_count": 7,
   "metadata": {},
   "outputs": [
    {
     "data": {
      "text/plain": [
       "{'ident': {'first_name': 'John', 'surname': 'Doe', 'dob': '', 'nhs_num': ''},\n",
       " 'obs': {'sys_bp': 128,\n",
       "  'dia_bp': 63,\n",
       "  'pulse': 72,\n",
       "  'temp': 36.5,\n",
       "  'rr': 12,\n",
       "  'on_o2': 0,\n",
       "  'sats': 98.0,\n",
       "  'conscious': 2}}"
      ]
     },
     "execution_count": 7,
     "metadata": {},
     "output_type": "execute_result"
    }
   ],
   "source": [
    "patients['pt3']"
   ]
  },
  {
   "cell_type": "code",
   "execution_count": 8,
   "metadata": {},
   "outputs": [
    {
     "data": {
      "text/plain": [
       "{'first_name': 'John',\n",
       " 'surname': 'Smith',\n",
       " 'dob': '24/03/1957',\n",
       " 'nhs_num': '37468481839'}"
      ]
     },
     "execution_count": 8,
     "metadata": {},
     "output_type": "execute_result"
    }
   ],
   "source": [
    "patients['pt1']['ident']"
   ]
  },
  {
   "cell_type": "code",
   "execution_count": 9,
   "metadata": {},
   "outputs": [
    {
     "data": {
      "text/plain": [
       "{'sys_bp': 96,\n",
       " 'dia_bp': 37,\n",
       " 'pulse': 130,\n",
       " 'temp': 35.1,\n",
       " 'rr': 32,\n",
       " 'on_o2': 1,\n",
       " 'sats': 79.8,\n",
       " 'conscious': 1}"
      ]
     },
     "execution_count": 9,
     "metadata": {},
     "output_type": "execute_result"
    }
   ],
   "source": [
    "patients['pt2']['obs']"
   ]
  },
  {
   "cell_type": "code",
   "execution_count": 10,
   "metadata": {},
   "outputs": [
    {
     "data": {
      "text/plain": [
       "'24/03/1957'"
      ]
     },
     "execution_count": 10,
     "metadata": {},
     "output_type": "execute_result"
    }
   ],
   "source": [
    "patients['pt1']['ident']['dob']"
   ]
  },
  {
   "cell_type": "code",
   "execution_count": 11,
   "metadata": {},
   "outputs": [
    {
     "data": {
      "text/plain": [
       "12"
      ]
     },
     "execution_count": 11,
     "metadata": {},
     "output_type": "execute_result"
    }
   ],
   "source": [
    "patients['pt3']['obs']['rr']"
   ]
  },
  {
   "cell_type": "code",
   "execution_count": null,
   "metadata": {},
   "outputs": [],
   "source": []
  },
  {
   "cell_type": "markdown",
   "metadata": {},
   "source": [
    "### Question 8"
   ]
  },
  {
   "cell_type": "markdown",
   "metadata": {},
   "source": [
    "Using what you know about print formatting and indexing, compose the following statement for pt1:\n",
    "- [first_name][surname]'s blood pressure is [sys_bp/dia_bp].\n",
    "<br>\n",
    "\n",
    "First off, save the relevant values to variables (a,b,c...) and then format the variables into the print statement.<br>\n",
    "Next, format the index calls directly into the print statement. <br>\n",
    "- Which of these methods makes more sense in this application? Why? (Answer below)"
   ]
  },
  {
   "cell_type": "code",
   "execution_count": 120,
   "metadata": {},
   "outputs": [
    {
     "name": "stdout",
     "output_type": "stream",
     "text": [
      "John Smith's blood pressure is 157/82.\n"
     ]
    }
   ],
   "source": [
    "a = patients['pt1']['ident']['first_name']\n",
    "b = patients['pt1']['ident']['surname']\n",
    "c = patients['pt1']['obs']['sys_bp']\n",
    "d = patients['pt1']['obs']['dia_bp']\n",
    "\n",
    "print(f\"{a} {b}'s blood pressure is {c}/{d}.\")"
   ]
  },
  {
   "cell_type": "code",
   "execution_count": 121,
   "metadata": {},
   "outputs": [
    {
     "name": "stdout",
     "output_type": "stream",
     "text": [
      "John Smith's blood pressure is 157/82.\n"
     ]
    }
   ],
   "source": [
    "print(f\"{patients['pt1']['ident']['first_name']} {patients['pt1']['ident']['surname']}'s blood pressure is {patients['pt1']['obs']['sys_bp']}/{patients['pt1']['obs']['dia_bp']}.\")"
   ]
  },
  {
   "cell_type": "markdown",
   "metadata": {},
   "source": [
    "Variable assignment method: directly calling makes the print statement absurdly long."
   ]
  },
  {
   "cell_type": "code",
   "execution_count": null,
   "metadata": {},
   "outputs": [],
   "source": []
  },
  {
   "cell_type": "markdown",
   "metadata": {},
   "source": [
    "## Bonus/Extension Questions"
   ]
  },
  {
   "cell_type": "markdown",
   "metadata": {},
   "source": [
    "__Note from author:__\n",
    "These questions are not at all necessary for the course, but they are great for those of you who really want to test themselves. <br>\n",
    "Expect to find them hard, and expect to spend some time cursing me for writing stupid, annoying questions that seem to have zero purpose except winding you up. <br>\n",
    "They are practical in nature, and they require you to think about what you are doing, without there necessarily being a correct answer. <br>\n",
    "This struggle is exactly what will help you progress in your coding journey, as you will remember the solutions when you arrive at them. <br>\n",
    "With regard to uncertainty, I have emphasised this attribute, as in real-world problems we do not have a mark scheme to check our answers against, and instead we must decide what is appropriate or sufficient for the given problem. <br>\n",
    "This is a skill that develops with time and experience, but there is no harm in starting early."
   ]
  },
  {
   "cell_type": "markdown",
   "metadata": {},
   "source": [
    "### Bonus/Extension Question 1"
   ]
  },
  {
   "cell_type": "markdown",
   "metadata": {},
   "source": [
    "If you have been paying attention for the last few questions, you should have noticed that there is a very notable piece of information missing from the `ident` dictionary. <br>\n",
    "- What is this variable?\n",
    "- Suggest a method in code of encoding this variable which can be answered as a yes/no (binary) question, rather than a categorical variable (`on_O2` is binary, `conscious` is categorical). Provide your answer as an updated form of the `ident` dictionary.\n",
    "- For more information on why binary variables are advantageous compared to categorical ones, you can google 'one-hot encoding'."
   ]
  },
  {
   "cell_type": "markdown",
   "metadata": {},
   "source": [
    "Biological sex (one-hot encode as 'is_male' or 'is_female')"
   ]
  },
  {
   "cell_type": "code",
   "execution_count": 13,
   "metadata": {},
   "outputs": [],
   "source": [
    "ident = {'first_name':'',\n",
    "         'surname':'',\n",
    "         'is_female':0,\n",
    "         'dob':'',\n",
    "         'nhs_num':''}"
   ]
  },
  {
   "cell_type": "code",
   "execution_count": null,
   "metadata": {},
   "outputs": [],
   "source": []
  },
  {
   "cell_type": "markdown",
   "metadata": {},
   "source": [
    "### Bonus/Extension Question 2"
   ]
  },
  {
   "cell_type": "markdown",
   "metadata": {},
   "source": [
    "In the patient information, diagnosis information was provided in text format. <br>\n",
    "Can you think of a more efficient and accurate way of encoding this? (clue = ICD-10) <br>\n",
    "When you have thought of it, use google to find the corresponding encoding information, and provide an updated form of the `patients` dictionary with this information included. <br>\n",
    "When answering this question, think about whether this information is better included in the `ident` or `obs` sub-dictionaries, or indeed as a separate sub-dictionary or value.<br>\n",
    "Justify your answer, as there is no absolute correct answer here. (Answer below)"
   ]
  },
  {
   "cell_type": "code",
   "execution_count": 14,
   "metadata": {},
   "outputs": [],
   "source": [
    "patients = {'pt1':{'ident':{'first_name':'John',\n",
    "                            'surname':'Smith',\n",
    "                            'dob':'24/03/1957',\n",
    "                            'nhs_num':'37468481839'},\n",
    "                   \n",
    "                   'obs':{'sys_bp':157,\n",
    "                          'dia_bp':82,\n",
    "                          'pulse':99,\n",
    "                          'temp':39.7,\n",
    "                          'rr':21,\n",
    "                          'on_o2':1,\n",
    "                          'sats':89.0,\n",
    "                          'conscious':3},\n",
    "                   \n",
    "                   'icd_10_code':'J44.1'},\n",
    "            \n",
    "            \n",
    "            'pt2':{'ident':{'first_name':'Jane',\n",
    "                            'surname':'Smith',\n",
    "                            'dob':'31/07/1988',\n",
    "                            'nhs_num':'28917381819'},\n",
    "                   'obs':{'sys_bp':96,\n",
    "                          'dia_bp':37,\n",
    "                          'pulse':130,\n",
    "                          'temp':35.1,\n",
    "                          'rr':32,\n",
    "                          'on_o2':1,\n",
    "                          'sats':79.8,\n",
    "                          'conscious':1},\n",
    "                   \n",
    "                   'icd_10_code':'R57.1'},\n",
    "            \n",
    "            \n",
    "            'pt3':{'ident':{'first_name':'John',\n",
    "                            'surname':'Doe',\n",
    "                            'dob':'',\n",
    "                            'nhs_num':''},\n",
    "                   \n",
    "                   'obs':{'sys_bp':128,\n",
    "                          'dia_bp':63,\n",
    "                          'pulse':72,\n",
    "                          'temp':36.5,\n",
    "                          'rr':12,\n",
    "                          'on_o2':0,\n",
    "                          'sats':98.0,\n",
    "                          'conscious':2},\n",
    "                   \n",
    "                   'icd_10_code':'F10.129'}}"
   ]
  },
  {
   "cell_type": "markdown",
   "metadata": {},
   "source": [
    "ICD-10 code, could also use SNOMED code or other disease classification. My personal preference is a separate value, as it neither neatly fits ID nor obs. Any other reasonably justified method is valid here."
   ]
  },
  {
   "cell_type": "markdown",
   "metadata": {},
   "source": [
    "### Bonus/Extension Question 3"
   ]
  },
  {
   "cell_type": "markdown",
   "metadata": {},
   "source": [
    "The observations detailed above are taken from the NEWS2 score, which you will come across during your medical career.\n",
    "<br>\n",
    "It is designed to quickly identify patients in need of urgent attention or escalation. <br><br>\n",
    "For this task:\n",
    "- Google the instructions for generating a NEWS2 score\n",
    "- Calculate the NEWS2 score for each patient manually\n",
    "- Provide the NEWS2 score data in an updated version of the `patients` dictionary. <br><br>\n",
    "\n",
    "As with the previous question, think about how you would encode this data: does it belong in one of the existing sub-dictionaries? <br>\n",
    "If you created a new sub-dictionary for the previous question, does it belong in there? <br>\n",
    "Or does it require a new sub-dictionary or value for itself? <br>\n",
    "Does adding this piece of data change how you would structure your data from the previous question? <br>\n",
    "Think about how you or someone else would access this data, and where it would be most natural to look for it. <br>\n",
    "As with the previous question, there is no absolute correct answer here. <br>\n",
    "The intention of this question is to get you thinking about how your 'medic brain' interacts with your 'coding brain', and how they can work together to solve problems.\n",
    "<br><br><br>\n",
    "__Note from author__: I know full well calculating the NEWS2 score is mind-numbingly boring and laden with potential for mistakes, but do not despair! You will soon learn control flow, which is a much faster way of performing tasks like this, and this task makes its applications in medicine abundantly clear."
   ]
  },
  {
   "cell_type": "code",
   "execution_count": 15,
   "metadata": {},
   "outputs": [],
   "source": [
    "patients = {'pt1':{'ident':{'first_name':'John',\n",
    "                            'surname':'Smith',\n",
    "                            'dob':'24/03/1957',\n",
    "                            'nhs_num':'37468481839'},\n",
    "                   \n",
    "                   'obs':{'sys_bp':157,\n",
    "                          'dia_bp':82,\n",
    "                          'pulse':99,\n",
    "                          'temp':39.7,\n",
    "                          'rr':21,\n",
    "                          'on_o2':1,\n",
    "                          'sats':89.0,\n",
    "                          'conscious':3},\n",
    "                   \n",
    "                   'clin_info':{'icd_10_code':'J44.1',\n",
    "                                'news2_score':0}},\n",
    "            \n",
    "            \n",
    "            'pt2':{'ident':{'first_name':'Jane',\n",
    "                            'surname':'Smith',\n",
    "                            'dob':'31/07/1988',\n",
    "                            'nhs_num':'28917381819'},\n",
    "                   'obs':{'sys_bp':96,\n",
    "                          'dia_bp':37,\n",
    "                          'pulse':130,\n",
    "                          'temp':35.1,\n",
    "                          'rr':32,\n",
    "                          'on_o2':1,\n",
    "                          'sats':79.8,\n",
    "                          'conscious':1},\n",
    "                   \n",
    "                   'clin_info':{'icd_10_code':'R57.1',\n",
    "                                'news2_score':0}},\n",
    "            \n",
    "            \n",
    "            'pt3':{'ident':{'first_name':'John',\n",
    "                            'surname':'Doe',\n",
    "                            'dob':'',\n",
    "                            'nhs_num':''},\n",
    "                   \n",
    "                   'obs':{'sys_bp':128,\n",
    "                          'dia_bp':63,\n",
    "                          'pulse':72,\n",
    "                          'temp':36.5,\n",
    "                          'rr':12,\n",
    "                          'on_o2':0,\n",
    "                          'sats':98.0,\n",
    "                          'conscious':2},\n",
    "                   \n",
    "                   'clin_info':{'icd_10_code':'F10.129',\n",
    "                                'news2_score':0}}}"
   ]
  },
  {
   "cell_type": "markdown",
   "metadata": {},
   "source": [
    "Addition of NEWS2 score justifies creation of 'clin-info' subdictionary, as now we have 2 values in that category. Any other reasonably justified system is valid here."
   ]
  },
  {
   "cell_type": "code",
   "execution_count": null,
   "metadata": {},
   "outputs": [],
   "source": []
  }
 ],
 "metadata": {
  "kernelspec": {
   "display_name": "Python 3",
   "language": "python",
   "name": "python3"
  },
  "language_info": {
   "codemirror_mode": {
    "name": "ipython",
    "version": 3
   },
   "file_extension": ".py",
   "mimetype": "text/x-python",
   "name": "python",
   "nbconvert_exporter": "python",
   "pygments_lexer": "ipython3",
   "version": "3.7.6"
  }
 },
 "nbformat": 4,
 "nbformat_minor": 4
}
